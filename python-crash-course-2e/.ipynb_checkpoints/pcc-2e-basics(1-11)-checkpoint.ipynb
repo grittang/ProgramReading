{
 "cells": [
  {
   "cell_type": "markdown",
   "metadata": {},
   "source": [
    "https://ehmatthes.github.io/pcc_2e/solutions/solutions/\n",
    "\n",
    "# CH1 Getting Started"
   ]
  },
  {
   "cell_type": "markdown",
   "metadata": {},
   "source": [
    "### What Really Happens When You Run hello_world.py\n",
    "When you run the file hello_world.py, the ending .py indicates that the file is a Python program. Your editor then runs the file through the Python interpreter, which reads through the program and determines what each word in the program means."
   ]
  },
  {
   "cell_type": "code",
   "execution_count": null,
   "metadata": {},
   "outputs": [],
   "source": [
    "magicians = ['alice', 'david', 'carolina']\n",
    "for magician in magicians:\n",
    "    # f-strings (using varibales in strings)\n",
    "    print(f\"{magician.title()}, that was a great trick!\")"
   ]
  },
  {
   "cell_type": "code",
   "execution_count": null,
   "metadata": {},
   "outputs": [],
   "source": [
    "magicians = ['alice', 'david', 'carolina']\n",
    "for magician in magicians:\n",
    "    print(magician.title())"
   ]
  },
  {
   "cell_type": "markdown",
   "metadata": {
    "collapsed": true
   },
   "source": [
    "### User input\n",
    "input() function"
   ]
  },
  {
   "cell_type": "code",
   "execution_count": null,
   "metadata": {},
   "outputs": [],
   "source": [
    "message = input(\"Tell me something, and I will repeat it back to you: \")\n",
    "print(message)"
   ]
  },
  {
   "cell_type": "markdown",
   "metadata": {},
   "source": [
    "# CH2 Variables and Simple Data Types\n",
    "## Strings"
   ]
  },
  {
   "cell_type": "markdown",
   "metadata": {},
   "source": [
    "### Changing case in a string with methods\n",
    "\n",
    "A method is an action that Python can perform on a piece of data. The dot\n",
    "(.) after name in name.title() tells Python to make the title() method act on\n",
    "the variable name.\n",
    "\n",
    "- The title() method changes each word to title case, where each word begins with a capital letter. This is useful because you’ll often want to think of a name as a piece of information. For example, you might want your program to recognize the input values Ada, ADA, and ada as the same name, and display all of them as Ada.\n",
    "\n",
    "- The lower() method is particularly useful for storing data. Many times you won’t want to trust the capitalization that your users provide, so you’ll convert strings to lowercase before storing them. Then when you want to display the information, you’ll use the case that makes the most sense for each string."
   ]
  },
  {
   "cell_type": "code",
   "execution_count": null,
   "metadata": {},
   "outputs": [],
   "source": [
    "name = \"ada lovelace\"\n",
    "print(name)"
   ]
  },
  {
   "cell_type": "code",
   "execution_count": null,
   "metadata": {},
   "outputs": [],
   "source": [
    "print(name.title())\n",
    "print(name.upper())\n",
    "print(name.lower())"
   ]
  },
  {
   "cell_type": "markdown",
   "metadata": {},
   "source": [
    "### Using variables in strings: `f-strings`\n",
    "These strings are called `f-strings`. The `f` is for format, because Python\n",
    "formats the string by replacing the name of any variable in braces with its\n",
    "value."
   ]
  },
  {
   "cell_type": "code",
   "execution_count": null,
   "metadata": {},
   "outputs": [],
   "source": [
    "first_name = \"ada\"\n",
    "last_name = \"lovelace\"\n",
    "full_name = f\"{first_name} {last_name}\"\n",
    "print(f\"Hello, {full_name.title()}!\")"
   ]
  },
  {
   "cell_type": "code",
   "execution_count": null,
   "metadata": {},
   "outputs": [],
   "source": [
    "message = f\"Hello, {full_name.title()}!\"\n",
    "print(message)"
   ]
  },
  {
   "cell_type": "markdown",
   "metadata": {},
   "source": [
    "F-strings were first introduced in **Python 3.6**. If you’re using Python 3.5 or earlier, you’ll need to use the format() method rather than this f syntax."
   ]
  },
  {
   "cell_type": "code",
   "execution_count": null,
   "metadata": {},
   "outputs": [],
   "source": [
    "full_name = \"{} {}\".format(first_name, last_name)\n",
    "print(message)"
   ]
  },
  {
   "cell_type": "markdown",
   "metadata": {},
   "source": [
    "### Adding Whitespace to Strings with Tabs or Newlines"
   ]
  },
  {
   "cell_type": "code",
   "execution_count": null,
   "metadata": {},
   "outputs": [],
   "source": [
    "print(\"Python\")\n",
    "# To add a tab to your text, use the character combination \\t\n",
    "print(\"\\tPython\")\n",
    "# To add a newline in a string, use the character combination \\n\n",
    "print(\"Language\\nPython\\nC\\nJavascript\")"
   ]
  },
  {
   "cell_type": "code",
   "execution_count": null,
   "metadata": {},
   "outputs": [],
   "source": [
    "# You can also combine tabs and newlines in a single string.\n",
    "print(\"Language\\n\\tPython\\n\\tPython\\n\\tC\\n\\tJavascript\")"
   ]
  },
  {
   "cell_type": "markdown",
   "metadata": {},
   "source": [
    "### Stripping Whitespace\n",
    "It’s important to think about whitespace, because often you’ll want to\n",
    "compare two strings to determine whether they are the same. For example,\n",
    "one important instance might involve checking people’s usernames when\n",
    "they log in to a website."
   ]
  },
  {
   "cell_type": "code",
   "execution_count": null,
   "metadata": {},
   "outputs": [],
   "source": [
    "# \"Python\" and \"Python \" are two different strings\n",
    "language_with_whitespace = \"Python \"\n",
    "print(f\"This is a string with whitespace: {language_with_whitespace}.\")\n",
    "\n",
    "language_without_whitespace = language_with_whitespace.rstrip()\n",
    "print(f\"No whitespace now: {language_without_whitespace}.\")"
   ]
  },
  {
   "cell_type": "code",
   "execution_count": null,
   "metadata": {},
   "outputs": [],
   "source": [
    "# You can also strip whitespace from the left side of a string using the\n",
    "# lstrip() method, or from both sides at once using strip():\n",
    "language = \" Python \"\n",
    "print(f\"A string with whitespace form both sides: {language}.\")\n",
    "print(f\"A string without whitespace from the left side: {language.lstrip()}.\")\n",
    "print(f\"A string without whitespace from both sides: {language.strip()}.\")"
   ]
  },
  {
   "cell_type": "markdown",
   "metadata": {},
   "source": [
    "## Numbers"
   ]
  },
  {
   "cell_type": "code",
   "execution_count": null,
   "metadata": {},
   "outputs": [],
   "source": [
    "0.1 + 0.1"
   ]
  },
  {
   "cell_type": "code",
   "execution_count": null,
   "metadata": {},
   "outputs": [],
   "source": [
    "# be aware that you can sometimes get an arbitrary number of decimal\n",
    "# places in your answer:\n",
    "0.2 + 0.1"
   ]
  },
  {
   "cell_type": "markdown",
   "metadata": {},
   "source": [
    "Python defaults to a float in any operation that uses a float, even if the\n",
    "output is a whole number."
   ]
  },
  {
   "cell_type": "code",
   "execution_count": null,
   "metadata": {},
   "outputs": [],
   "source": [
    "3 ** 2"
   ]
  },
  {
   "cell_type": "markdown",
   "metadata": {},
   "source": [
    "When you’re writing long numbers, you can group digits using **underscores**\n",
    "to make large numbers more readable:"
   ]
  },
  {
   "cell_type": "code",
   "execution_count": null,
   "metadata": {},
   "outputs": [],
   "source": [
    "universe_age = 14_000_000_000\n",
    "print(universe_age)"
   ]
  },
  {
   "cell_type": "markdown",
   "metadata": {},
   "source": [
    "### Multiple assignment\n",
    "You can assign values to more than one variable using just a single line."
   ]
  },
  {
   "cell_type": "code",
   "execution_count": null,
   "metadata": {},
   "outputs": [],
   "source": [
    "x, y, z = 0, 0, 0"
   ]
  },
  {
   "cell_type": "markdown",
   "metadata": {},
   "source": [
    "### The Zen of Python"
   ]
  },
  {
   "cell_type": "code",
   "execution_count": null,
   "metadata": {},
   "outputs": [],
   "source": [
    "import this"
   ]
  },
  {
   "cell_type": "markdown",
   "metadata": {},
   "source": [
    "## CH3 Introducing Lists"
   ]
  },
  {
   "cell_type": "markdown",
   "metadata": {},
   "source": [
    "### Accessing elements in a list"
   ]
  },
  {
   "cell_type": "code",
   "execution_count": null,
   "metadata": {},
   "outputs": [],
   "source": [
    "bicycles = ['trek', 'cannondale', 'redline', 'specialized']\n",
    "print(bicycles[0])\n",
    "print(bicycles[0].title())\n",
    "\n",
    "# Index Positions Start at 0, Not 1\n",
    "print(bicycles[1])\n",
    "\n",
    "# Returning the last item in the list\n",
    "print(bicycles[-1])\n",
    "\n",
    "# Using Individual Values from a List\n",
    "print(f\"My first bicycle was a {bicycles[0].title()}.\")"
   ]
  },
  {
   "cell_type": "markdown",
   "metadata": {},
   "source": [
    "### Changing, adding and removing elements"
   ]
  },
  {
   "cell_type": "code",
   "execution_count": null,
   "metadata": {},
   "outputs": [],
   "source": [
    "motorcycles = ['honda', 'yamaha', 'suzuki']\n",
    "print(motorcycles)\n",
    "\n",
    "# Modifying elements in a list\n",
    "motorcycles[0] = 'ducati'\n",
    "print(motorcycles)"
   ]
  },
  {
   "cell_type": "code",
   "execution_count": null,
   "metadata": {},
   "outputs": [],
   "source": [
    "# Appending elements to the end of a list\n",
    "motorcycles.append('hamlet')\n",
    "print(motorcycles)"
   ]
  },
  {
   "cell_type": "code",
   "execution_count": null,
   "metadata": {},
   "outputs": [],
   "source": [
    "# Inserting elements into a list\n",
    "motorcycles.insert(1, 'bmw')\n",
    "print(motorcycles)"
   ]
  },
  {
   "cell_type": "code",
   "execution_count": null,
   "metadata": {},
   "outputs": [],
   "source": [
    "# Removing an item using del statement\n",
    "# you can no longer access the value that was removed\n",
    "# from the list after the del statement is used.\n",
    "del motorcycles[2]\n",
    "print(motorcycles)"
   ]
  },
  {
   "cell_type": "code",
   "execution_count": null,
   "metadata": {},
   "outputs": [],
   "source": [
    "# The pop() method removes the last item in a list,\n",
    "# but it lets you work with that item after removing it.\n",
    "popped_motorcycle = motorcycles.pop()\n",
    "print(motorcycles)\n",
    "print(popped_motorcycle)"
   ]
  },
  {
   "cell_type": "markdown",
   "metadata": {},
   "source": [
    "How might this pop() method be useful? Imagine that the motorcycles\n",
    "in the list are stored in chronological order according to when we owned\n",
    "them. If this is the case, we can use the pop() method to print a statement\n",
    "about the last motorcycle we bought:"
   ]
  },
  {
   "cell_type": "code",
   "execution_count": null,
   "metadata": {},
   "outputs": [],
   "source": [
    "motorcycles = ['honda', 'yamaha', 'suzuki']\n",
    "\n",
    "last_owned = motorcycles.pop()\n",
    "print(f\"The last motorcycle I owned was a {last_owned.title()}.\")"
   ]
  },
  {
   "cell_type": "code",
   "execution_count": null,
   "metadata": {},
   "outputs": [],
   "source": [
    "# You can use pop() to remove an item from any position in a list\n",
    "# by including the index of the item you want to remove in parentheses.\n",
    "first_owned = motorcycles.pop(0)\n",
    "print(f\"The first motorcycle I owned was a {first_owned.title()}.\")"
   ]
  },
  {
   "cell_type": "code",
   "execution_count": null,
   "metadata": {},
   "outputs": [],
   "source": [
    "# Removing an item by value\n",
    "motorcycles = ['honda', 'yamaha', 'suzuki', 'ducati']\n",
    "motorcycles.remove('yamaha')\n",
    "print(motorcycles)\n",
    "\n",
    "# Let's give a reason for removing the value 'ducati'\n",
    "too_expensive = 'ducati'\n",
    "motorcycles.remove(too_expensive)\n",
    "print(motorcycles)\n",
    "print(f\"\\nA {too_expensive} is too expensive for me.\")"
   ]
  },
  {
   "cell_type": "markdown",
   "metadata": {},
   "source": [
    "## Organizing a List"
   ]
  },
  {
   "cell_type": "code",
   "execution_count": null,
   "metadata": {},
   "outputs": [],
   "source": [
    "# Sorting a list permanently with the sort() method\n",
    "cars = ['bmw', 'audi', 'toyota', 'subaru']\n",
    "cars.sort()\n",
    "print(cars)\n",
    "\n",
    "# You can also sort this list in reverse alphabetical order by passing the\n",
    "# argument reverse=True to the sort() method.\n",
    "cars.sort(reverse=True)\n",
    "print(cars)"
   ]
  },
  {
   "cell_type": "code",
   "execution_count": null,
   "metadata": {},
   "outputs": [],
   "source": [
    "# Sorting a list temporarily with the sorted() function\n",
    "cars = ['bmw', 'audi', 'toyota', 'subaru']\n",
    "print(\"Here is the original list:\")\n",
    "print(cars)\n",
    "\n",
    "print(\"\\nHere is the sorted list:\")\n",
    "print(sorted(cars))\n",
    "\n",
    "print(\"\\nHere is the original list again:\")\n",
    "print(cars)"
   ]
  },
  {
   "cell_type": "code",
   "execution_count": null,
   "metadata": {},
   "outputs": [],
   "source": [
    "# Printing a list in reverse order\n",
    "\n",
    "# Notice that reverse() doesn’t sort backward alphabetically; it simply\n",
    "# reverses the order of the list:\n",
    "cars = ['bmw', 'audi', 'toyota', 'subaru']\n",
    "print(cars)\n",
    "\n",
    "cars.reverse()\n",
    "print(cars)"
   ]
  },
  {
   "cell_type": "code",
   "execution_count": null,
   "metadata": {},
   "outputs": [],
   "source": [
    "# Finding the length of a list\n",
    "cars = ['bmw', 'audi', 'toyota', 'subaru']\n",
    "len(cars)"
   ]
  },
  {
   "cell_type": "markdown",
   "metadata": {},
   "source": [
    "#### List Organization Exercise"
   ]
  },
  {
   "cell_type": "code",
   "execution_count": null,
   "metadata": {},
   "outputs": [],
   "source": [
    "# Seeing the world\n",
    "\n",
    "# Sorting the list temporarily\n",
    "places = ['Tibet', 'Taiwan', 'Japan', 'Italy', 'USA']\n",
    "print(\"Here is the original list:\")\n",
    "print(places)\n",
    "\n",
    "print(\"\\nHere is the sorted list:\")\n",
    "print(sorted(places))\n",
    "\n",
    "print(\"\\nHere is the original list again:\")\n",
    "print(places)"
   ]
  },
  {
   "cell_type": "code",
   "execution_count": null,
   "metadata": {},
   "outputs": [],
   "source": [
    "# Reversing the list\n",
    "places.reverse()\n",
    "print(\"Here is the reversed list:\")\n",
    "print(places)\n",
    "\n",
    "places.reverse()\n",
    "print(\"\\nHere is the original list again:\")\n",
    "print(places)"
   ]
  },
  {
   "cell_type": "code",
   "execution_count": null,
   "metadata": {},
   "outputs": [],
   "source": [
    "# Sorting the list permanently\n",
    "places.sort()\n",
    "print(f\"Here is the sorted list in alphabetical order:\")\n",
    "print(places)\n",
    "\n",
    "# Sorting the list in reverse alphabetical order\n",
    "places.sort(reverse=True)\n",
    "print(\"\\nHere is the sorted list in reverse alphabetical order:\")\n",
    "print(places)"
   ]
  },
  {
   "cell_type": "code",
   "execution_count": null,
   "metadata": {},
   "outputs": [],
   "source": [
    "# Printing a message indicating the number of places\n",
    "# in the world you'd like to visit\n",
    "place_number = len(places)\n",
    "print(f\"The following {place_number} places I'd like to visit:\")\n",
    "\n",
    "# Printing each place\n",
    "for place in places:\n",
    "    print(f\"\\t- {place}, is a wonderful place!\")"
   ]
  },
  {
   "cell_type": "markdown",
   "metadata": {},
   "source": [
    "# CH3 Introducing Lists\n",
    "# CH4 Working with Lists"
   ]
  },
  {
   "cell_type": "markdown",
   "metadata": {},
   "source": [
    "## Making Numerical Lists"
   ]
  },
  {
   "cell_type": "code",
   "execution_count": null,
   "metadata": {},
   "outputs": [],
   "source": [
    "# Using the range() function to make a list of numbers\n",
    "squares = []\n",
    "for num in range(1, 11):\n",
    "    squares.append(num**2)\n",
    "    \n",
    "print(squares)"
   ]
  },
  {
   "cell_type": "code",
   "execution_count": null,
   "metadata": {},
   "outputs": [],
   "source": [
    "# Simple statistics with a list of numbers\n",
    "print(min(squares))\n",
    "print(max(squares))\n",
    "print(sum(squares))"
   ]
  },
  {
   "cell_type": "code",
   "execution_count": null,
   "metadata": {},
   "outputs": [],
   "source": [
    "# List comprehensions\n",
    "# A list comprehension combines the for loop \n",
    "# and the creation of new elements into one line, \n",
    "# and automatically appends each new element.\n",
    "squares = [num**2 for num in range(1, 11)]\n",
    "print(squares)"
   ]
  },
  {
   "cell_type": "code",
   "execution_count": null,
   "metadata": {},
   "outputs": [],
   "source": [
    "# Using list comprehension to creat reduplications\n",
    "reduplications = [letter*2 for letter in list('abcdefg')]\n",
    "print(reduplications)"
   ]
  },
  {
   "cell_type": "code",
   "execution_count": null,
   "metadata": {},
   "outputs": [],
   "source": [
    "import string\n",
    "string.ascii_lowercase"
   ]
  },
  {
   "cell_type": "code",
   "execution_count": null,
   "metadata": {},
   "outputs": [],
   "source": [
    "list(string.ascii_lowercase)"
   ]
  },
  {
   "cell_type": "code",
   "execution_count": null,
   "metadata": {},
   "outputs": [],
   "source": [
    "reduplications = [letter*2 for letter in list(string.ascii_lowercase)]\n",
    "print(reduplications)"
   ]
  },
  {
   "cell_type": "code",
   "execution_count": null,
   "metadata": {},
   "outputs": [],
   "source": [
    "reduplications = [letter*3 for letter in list(string.ascii_uppercase)]\n",
    "print(reduplications)"
   ]
  },
  {
   "cell_type": "markdown",
   "metadata": {},
   "source": [
    "## Working with part of a list"
   ]
  },
  {
   "cell_type": "code",
   "execution_count": null,
   "metadata": {},
   "outputs": [],
   "source": [
    "# Slicing a list\n",
    "players = ['charles', 'martina', 'michael', 'florence', 'eli']\n",
    "print(players[0:3])\n",
    "print(players[1:4])\n",
    "print(players[:4])\n",
    "print(players[:-1])\n",
    "print(players[-3:])"
   ]
  },
  {
   "cell_type": "code",
   "execution_count": null,
   "metadata": {},
   "outputs": [],
   "source": [
    "# Looping throught a list\n",
    "print(\"Here are the first three players in my team:\")\n",
    "for player in players[:3]:\n",
    "    print(f\"- {player.title()}\")"
   ]
  },
  {
   "cell_type": "code",
   "execution_count": null,
   "metadata": {},
   "outputs": [],
   "source": [
    "# Copying a list\n",
    "my_foods = ['pizza', 'falafel', 'carrot cake']\n",
    "friend_foods = my_foods[:]\n",
    "\n",
    "print(\"My favorite foods are:\")\n",
    "print(my_foods)\n",
    "\n",
    "print(\"\\nMy friend's favorite foods are:\")\n",
    "print(friend_foods)"
   ]
  },
  {
   "cell_type": "code",
   "execution_count": null,
   "metadata": {},
   "outputs": [],
   "source": [
    "# Adding a new food to my friend's list\n",
    "friend_foods.append('ice cream')\n",
    "print(\"Now my friend's favorite foods are:\")\n",
    "print(friend_foods)"
   ]
  },
  {
   "cell_type": "markdown",
   "metadata": {},
   "source": [
    "## Tuples\n",
    "Python refers to values that cannot change as immutable, and an immutable list is called a tuple."
   ]
  },
  {
   "cell_type": "code",
   "execution_count": null,
   "metadata": {},
   "outputs": [],
   "source": [
    "dimensions = (200, 50)\n",
    "print(dimensions[0])\n",
    "print(dimensions[1])"
   ]
  },
  {
   "cell_type": "code",
   "execution_count": null,
   "metadata": {},
   "outputs": [],
   "source": [
    "dimensions[0] = 400"
   ]
  },
  {
   "cell_type": "code",
   "execution_count": null,
   "metadata": {
    "scrolled": true
   },
   "outputs": [],
   "source": [
    "# Although you can’t modify a tuple, you can assign a new value \n",
    "# to a variable that represents a tuple.\n",
    "dimensions = (200, 50)\n",
    "print(\"Original dimensions:\")\n",
    "for dimension in dimensions:\n",
    "    print(dimension)\n",
    "    \n",
    "dimensions = (400, 100)\n",
    "print(\"\\nModified dimensions:\")\n",
    "for dimension in dimensions:\n",
    "    print(dimension)"
   ]
  },
  {
   "cell_type": "markdown",
   "metadata": {},
   "source": [
    "#### Tuple Exercise"
   ]
  },
  {
   "cell_type": "code",
   "execution_count": null,
   "metadata": {},
   "outputs": [],
   "source": [
    "your_buffet = ('bear', 'meat', 'beef', 'ice cream', 'lemon')\n",
    "print(\"Here are your ordered buffet foods:\")\n",
    "for food in your_buffet:\n",
    "    print(food)"
   ]
  },
  {
   "cell_type": "code",
   "execution_count": null,
   "metadata": {},
   "outputs": [],
   "source": [
    "try:\n",
    "    your_buffet[-2] = 'cake'\n",
    "except TypeError:\n",
    "    print(\"Item assignment isn't supported.\")"
   ]
  },
  {
   "cell_type": "markdown",
   "metadata": {},
   "source": [
    "# CH5 `if` Statements"
   ]
  },
  {
   "cell_type": "code",
   "execution_count": null,
   "metadata": {},
   "outputs": [],
   "source": [
    "# A simple example\n",
    "cars = ['audi', 'bmw', 'subaru', 'toyota']\n",
    "\n",
    "for car in cars:\n",
    "    if car == 'bmw':\n",
    "        print(car.upper())\n",
    "    else:\n",
    "        print(car.title())"
   ]
  },
  {
   "cell_type": "markdown",
   "metadata": {},
   "source": [
    "### Conditional Tests\n",
    "1. With Mathematical Comparisons:\n",
    "    - equals x == 42\n",
    "    - not equal x != 42\n",
    "    - greater than x > 42\n",
    "        - or equal to x >= 42\n",
    "    - less than x < 42\n",
    "        - or equal to x <= 42\n",
    "        \n",
    "2. With Lists:\n",
    "    - 'trek' in bikes\n",
    "    - 'surly' not in bikes"
   ]
  },
  {
   "cell_type": "code",
   "execution_count": null,
   "metadata": {},
   "outputs": [],
   "source": [
    "# Checking for equality\n",
    "car = 'BMW'\n",
    "print(car == 'BMW')\n",
    "print(car == 'bmw')\n",
    "\n",
    "# Ignoring case when checking for equality\n",
    "print(car.lower() == 'bmw')"
   ]
  },
  {
   "cell_type": "code",
   "execution_count": null,
   "metadata": {},
   "outputs": [],
   "source": [
    "# Checking for inequality\n",
    "requested_topping = 'mushrooms'\n",
    "\n",
    "if requested_topping != 'anchovies':\n",
    "    print(\"Hold the anchovies!\")"
   ]
  },
  {
   "cell_type": "code",
   "execution_count": null,
   "metadata": {},
   "outputs": [],
   "source": [
    "# Numberical comparisons\n",
    "answer = 18\n",
    "print(answer == 18)\n",
    "\n",
    "if answer != 28:\n",
    "    print(\"That is not the correct answer. Please try again!\")\n",
    "\n",
    "# Including various mathematical comparisons in your conditional statements\n",
    "print(answer < 21)\n",
    "print(answer <= 21)\n",
    "print(answer > 19)\n",
    "print(answer >= 19)"
   ]
  },
  {
   "cell_type": "code",
   "execution_count": null,
   "metadata": {},
   "outputs": [],
   "source": [
    "# Using `and` to check multiple conditions\n",
    "# Parentheses around the individual tests can be used to improve readability\n",
    "# but they are not required\n",
    "age_0 = 22\n",
    "age_1 = 18\n",
    "print(age_0 > 21 and age_1 <=19)\n",
    "print((age_0 <= 21) and (age_1 <= 19))"
   ]
  },
  {
   "cell_type": "code",
   "execution_count": null,
   "metadata": {},
   "outputs": [],
   "source": [
    "# Using `or` to check multiple conditions\n",
    "print(age_0 <= 21 or age_1 >= 19)\n",
    "print(age_0 <= 21 or age_1 <=19)"
   ]
  },
  {
   "cell_type": "code",
   "execution_count": null,
   "metadata": {},
   "outputs": [],
   "source": [
    "# Checking whether a value is in a list\n",
    "requested_toppings = ['mushrooms', 'onions', 'pineapple']\n",
    "print('mushrooms' in requested_toppings)\n",
    "print('pepperoni' in requested_toppings)\n",
    "\n",
    "# Checking whether a value is NOT in a list\n",
    "banned_users = ['andrew', 'carolina', 'david']\n",
    "user = 'marie'\n",
    "\n",
    "if user not in banned_users:\n",
    "    print(f\"{user.title()}, you can post a response if you wish.\")"
   ]
  },
  {
   "cell_type": "code",
   "execution_count": null,
   "metadata": {},
   "outputs": [],
   "source": [
    "# Boolean expressions\n",
    "game_active = True\n",
    "can_edit = False"
   ]
  },
  {
   "cell_type": "markdown",
   "metadata": {},
   "source": [
    "#### IF Statements Exercise"
   ]
  },
  {
   "cell_type": "code",
   "execution_count": null,
   "metadata": {},
   "outputs": [],
   "source": [
    "# Checking whether those passengers wear masks\n",
    "# and counting the number of people getting throught\n",
    "\n",
    "import numpy\n",
    "# Creating a list indicating those passengers who wear masks or not\n",
    "passengers_and_masks = list(numpy.random.randint(2, size=100))\n",
    "passengers_with_access_num = 0\n",
    "passengers_with_access = []\n",
    "num_limit = 60\n",
    "\n",
    "for index, passenger_with_mask in enumerate(passengers_and_masks):\n",
    "    if passenger_with_mask == 1:\n",
    "        passengers_with_access_num += 1\n",
    "        passengers_with_access.append(index)\n",
    "    if passengers_with_access_num == num_limit:\n",
    "        break\n",
    "        \n",
    "print(f\"There are {len(passengers_with_access)} passengers who have access to get through the entrance. Their indexs are as follows:\")\n",
    "print(passengers_with_access)"
   ]
  },
  {
   "cell_type": "markdown",
   "metadata": {
    "collapsed": true
   },
   "source": [
    "# CH6 Dictionaries\n",
    "A dictionary in Python is a collection of *key-value pairs*. Each key is connected to a value, and you can use a key to access the value associated with that key."
   ]
  },
  {
   "cell_type": "markdown",
   "metadata": {},
   "source": [
    "## Working with Dictionaries"
   ]
  },
  {
   "cell_type": "code",
   "execution_count": null,
   "metadata": {},
   "outputs": [],
   "source": [
    "# Accessing values in a dictionary\n",
    "alien_0 = {'color': 'green', 'points': 5}\n",
    "print(alien_0['color'])\n",
    "\n",
    "achived_color = alien_0['color']\n",
    "new_points = alien_0['points']\n",
    "print(f\"\\nYou just earned {new_points} points for achiving a/an {achived_color} alien.\")"
   ]
  },
  {
   "cell_type": "code",
   "execution_count": null,
   "metadata": {
    "scrolled": true
   },
   "outputs": [],
   "source": [
    "# Adding new key-value pairs\n",
    "alien_0 = {'color': 'green', 'points': 5}\n",
    "print(alien_0)\n",
    "\n",
    "alien_0['x_position'] = 0\n",
    "alien_0['y_position'] = 25\n",
    "print(alien_0)"
   ]
  },
  {
   "cell_type": "code",
   "execution_count": null,
   "metadata": {},
   "outputs": [],
   "source": [
    "# Starting with an empty dictionary\n",
    "alien_0 = {}\n",
    "\n",
    "alien_0['color'] = 'green'\n",
    "alien_0['points'] = 5\n",
    "\n",
    "print(alien_0)"
   ]
  },
  {
   "cell_type": "code",
   "execution_count": null,
   "metadata": {},
   "outputs": [],
   "source": [
    "# Modifying values in a ditionary\n",
    "alien_0 = {'color': 'green'}\n",
    "print(f\"The alien is {alien_0['color']}.\")\n",
    "\n",
    "alien_0['color'] = 'yellow'\n",
    "print(f\"The alien is now {alien_0['color']}.\")\n",
    "\n",
    "# A more interesting example\n",
    "alien_0 = {'x_position': 0, 'y_position': 25, 'speed': 'medium'}\n",
    "original_position = alien_0['x_position']\n",
    "print(f\"\\nOriginal position: {original_position}\")\n",
    "\n",
    "# Move the alien to the right\n",
    "# Determine how far to move the alien based on its current speed\n",
    "def position_increment(speed):\n",
    "    if speed == 'slow':\n",
    "        x_increment = 1\n",
    "    elif speed == 'medium':\n",
    "        x_increment = 2\n",
    "    else:\n",
    "        # This must be a fast alien\n",
    "        x_increment = 3\n",
    "    return x_increment\n",
    "\n",
    "def new_position(old_position, speed):\n",
    "    return old_position + position_increment(speed)\n",
    "\n",
    "current_position = new_position(original_position, alien_0['speed'])\n",
    "\n",
    "print(f\"The {alien_0['speed']} alien's current position: {current_position}\")"
   ]
  },
  {
   "cell_type": "code",
   "execution_count": null,
   "metadata": {},
   "outputs": [],
   "source": [
    "# Replace the medium-speed alien with a fast one\n",
    "alien_0['speed'] = 'fast'\n",
    "current_position = new_position(original_position, alien_0['speed'])\n",
    "\n",
    "print(f\"The {alien_0['speed']} alien's current position: {current_position}\")"
   ]
  },
  {
   "cell_type": "code",
   "execution_count": null,
   "metadata": {},
   "outputs": [],
   "source": [
    "# Removing key-value pairs\n",
    "alien_0 = {'color': 'green', 'points': 5}\n",
    "print(alien_0)\n",
    "\n",
    "del alien_0['points']\n",
    "print(alien_0)"
   ]
  },
  {
   "cell_type": "code",
   "execution_count": null,
   "metadata": {},
   "outputs": [],
   "source": [
    "# A dictionary of similar objects\n",
    "favorite_languages = {\n",
    "    'jen': 'python',\n",
    "    'sarah': 'c',\n",
    "    'edward': 'ruby',\n",
    "    'phil': 'python',\n",
    "    }\n",
    "\n",
    "# Guess your favorite language\n",
    "name = input(\"What's your name?\").lower()\n",
    "if name.lower() in favorite_languages:\n",
    "    language = favorite_languages[name]\n",
    "    print(f\"Hi {name.title()}, your favorite language is {language}.\")\n",
    "else:\n",
    "    print(f\"Sorry {name.title()}, your favorite language is not included.\")\n",
    "    # Ask user to write his favorite lanuage down\n",
    "    favorite_languages[name] = input(\"\\nWell, which lanuage do you like most?\")\n",
    "    print(f\"Very good, now we konw your favorite language is {favorite_languages[name]}.\")"
   ]
  },
  {
   "cell_type": "code",
   "execution_count": null,
   "metadata": {},
   "outputs": [],
   "source": [
    "# Using get() to access values\n",
    "\n",
    "# Using keys in square brackets to retrieve values from a dictionary\n",
    "# may raise KeyError\n",
    "alien_0 = {'color': 'green', 'points': 5}\n",
    "try:\n",
    "    alien_0['speed']\n",
    "except KeyError:\n",
    "    print(\"The key 'speed' doesn't exist.\\n\")\n",
    "\n",
    "'''\n",
    "The get() method requires a key as a first argument.\n",
    "As a second optional argument, \n",
    "you can pass the value to be returned if the key doesn’t exist:\n",
    "'''\n",
    "speed_value = alien_0.get('speed', 'No speed value assigned.')\n",
    "print(speed_value)\n",
    "\n",
    "# If you leave out the second argument in the call to get() \n",
    "# and the key doesn’t exist, Python will return the value None.\n",
    "print(alien_0.get('name'))"
   ]
  },
  {
   "cell_type": "markdown",
   "metadata": {},
   "source": [
    "## Looping Throught a Dictionary"
   ]
  },
  {
   "cell_type": "code",
   "execution_count": null,
   "metadata": {},
   "outputs": [],
   "source": [
    "# Looping throught all key-value pairs\n",
    "\n",
    "favorite_languages = {\n",
    "'jen': 'python',\n",
    "'sarah': 'c',\n",
    "'edward': 'ruby',\n",
    "'phil': 'python',\n",
    "}\n",
    "\n",
    "for key, value in favorite_languages.items():\n",
    "    print(f\"Key: {key}\")\n",
    "    print(f\"Value: {value}\\n\") \n",
    "    \n",
    "for name, language in favorite_languages.items():\n",
    "    print(f\"{name.title()}'s favorite language is {language}.\")"
   ]
  },
  {
   "cell_type": "code",
   "execution_count": null,
   "metadata": {},
   "outputs": [],
   "source": [
    "# Looping through all the keys in dictionary\n",
    "\n",
    "for name in favorite_languages.keys():\n",
    "    print(name.title())\n",
    "print(\"\\n\")\n",
    "    \n",
    "# Print a couple of friends about the language they chose\n",
    "friends = ['Phil', 'Thomy', 'Sarah']\n",
    "for friend in friends:\n",
    "    '''\n",
    "    Looping through the keys is actually the default behavior when looping\n",
    "    through a dictionary, so this code would have exactly the same output\n",
    "    if you wrote:\n",
    "    '''\n",
    "    if friend.lower() in favorite_languages:\n",
    "        language = favorite_languages[friend.lower()]\n",
    "        print(f\"Hi {friend.title()}, I see you love {language}.\")\n",
    "    else:\n",
    "        print(f\"{friend.title()}, please take our poll.\")"
   ]
  },
  {
   "cell_type": "code",
   "execution_count": null,
   "metadata": {},
   "outputs": [],
   "source": [
    "# Looping through a dictionary's keys in a particular order\n",
    "\n",
    "for name in sorted(favorite_languages.keys(), reverse=True):\n",
    "    print(f\"{name.title()}, thank you for taking the poll.\")"
   ]
  },
  {
   "cell_type": "code",
   "execution_count": null,
   "metadata": {},
   "outputs": [],
   "source": [
    "# Looping throught all values in a dictionary\n",
    "\n",
    "print(\"The following languages have been metioned:\")\n",
    "# Pull all the values from the dictionary after checking for repeats\n",
    "for language in set(favorite_languages.values()):\n",
    "    print(f\"- {language}\")"
   ]
  },
  {
   "cell_type": "code",
   "execution_count": null,
   "metadata": {
    "scrolled": true
   },
   "outputs": [],
   "source": [
    "# Looping throught all index-key pairs in a dictionary\n",
    "\n",
    "print(\"The following users' information have been included:\")\n",
    "for index, name in enumerate(favorite_languages):\n",
    "    # index += 1\n",
    "    print(f\"{index} - {name}\")"
   ]
  },
  {
   "cell_type": "markdown",
   "metadata": {},
   "source": [
    "## Nesting"
   ]
  },
  {
   "cell_type": "code",
   "execution_count": null,
   "metadata": {},
   "outputs": [],
   "source": [
    "# A list of dictionaries\n",
    "\n",
    "alien_0 = {'color': 'green', 'points': 5}\n",
    "alien_1 = {'color': 'yellow', 'points': 10}\n",
    "alien_2 = {'color': 'red', 'points': 15}\n",
    "\n",
    "aliens = [alien_0, alien_1, alien_2]\n",
    "\n",
    "for alien in aliens:\n",
    "    print(alien)\n",
    "\n",
    "'''\n",
    "Create a fleet of 30 aliens\n",
    "'''\n",
    "# Make an empty list for storing aliens\n",
    "aliens = []\n",
    "\n",
    "# Make 30 green aliens\n",
    "for alien_num in range(30):\n",
    "    new_alien = {'color': 'green', \n",
    "                 'points': 5, \n",
    "                 'speed': 'slow'\n",
    "                }\n",
    "    aliens.append(new_alien)\n",
    "    \n",
    "# Show the first 5 aliens\n",
    "print(\"\\nHere are the first 5 aliens of 30 initialized:\")\n",
    "for alien in aliens[:5]:\n",
    "    print(alien)\n",
    "    \n",
    "'''\n",
    "Change the first 3 aliens to yellow, medium-speed aliens worth 10 points each\n",
    "'''\n",
    "for alien in aliens[:3]:\n",
    "    alien['color'] = 'yellow'\n",
    "    alien['points'] = 10\n",
    "    alien['speed'] = 'medium'\n",
    "print(f\"\\nHere are the first 5 aliens of 30 after modification:\")\n",
    "for alien in aliens[:5]:\n",
    "    print(alien)"
   ]
  },
  {
   "cell_type": "code",
   "execution_count": null,
   "metadata": {},
   "outputs": [],
   "source": [
    "# A list in a dictionary\n",
    "\n",
    "# Store information about a pizza being ordered.\n",
    "pizza = {\n",
    "    'crust': 'thick',\n",
    "    'toppings': ['mushrooms', 'extra cheese'],\n",
    "}\n",
    "\n",
    "# Summarize the order\n",
    "print(f\"You ordered a {pizza['crust']}-crust pizza \"\n",
    "     \"with the folloing toppings:\")\n",
    "\n",
    "for topping in pizza['toppings']:\n",
    "    print(\"\\t\" + topping)\n",
    "    \n",
    "# ---\n",
    "# Store more than one language chosen by each\n",
    "favorite_languages = {\n",
    "    'jen': ['python', 'ruby'],\n",
    "    'sarah': ['c'],\n",
    "    'edward': ['ruby', 'go'],\n",
    "    'phil': ['python', 'haskell'],\n",
    "}\n",
    "\n",
    "for name, languages in favorite_languages.items():\n",
    "    print(f\"\\n{name.title()}'s favorite languages are:\")\n",
    "    for language in languages:\n",
    "        print(f\"\\t{language.title()}\")"
   ]
  },
  {
   "cell_type": "code",
   "execution_count": null,
   "metadata": {},
   "outputs": [],
   "source": [
    "# A dictionary in a dictionary\n",
    "\n",
    "users = {\n",
    "    'aeinstein': {\n",
    "    'first': 'albert',\n",
    "    'last': 'einstein',\n",
    "    'location': 'princeton',\n",
    "    },\n",
    "    'mcurie': {\n",
    "    'first': 'marie',\n",
    "    'last': 'curie',\n",
    "    'location': 'paris',\n",
    "    },\n",
    "}\n",
    "\n",
    "for username, user_info in users.items():\n",
    "    print(f\"Username: {username}\")\n",
    "    full_name = user_info['last'].title() + user_info['first'].title()\n",
    "    location = user_info['location'].title()\n",
    "    print(f\"\\tFull name: {full_name}\")\n",
    "    print(f\"\\tLocation: {location}\\n\")"
   ]
  },
  {
   "cell_type": "markdown",
   "metadata": {},
   "source": [
    "# CH7 User Input and `while` Loops\n",
    "## How the `input()` function works"
   ]
  },
  {
   "cell_type": "code",
   "execution_count": null,
   "metadata": {},
   "outputs": [],
   "source": [
    "# Writing clear prompts\n",
    "\n",
    "msg = input(\"Tell me something, and I will repeat it back to you: \")\n",
    "\n",
    "# Greeter ---\n",
    "# Add a space at the end of your prompts\n",
    "name = input(\"\\nPlease enter your name: \")\n",
    "print(f\"Hello, {name.title()}!\")\n",
    "\n",
    "# ---\n",
    "# Bulid prompts over several lines\n",
    "prompt = \"\\nIf you tell us who you are, we can personalize the message you see.\"\n",
    "prompt += \"\\nWhat is your first name? \"\n",
    "\n",
    "name = input(prompt)\n",
    "print(f\"Hello, {name.title()}!\")"
   ]
  },
  {
   "cell_type": "code",
   "execution_count": null,
   "metadata": {},
   "outputs": [],
   "source": [
    "# Using int() to accept numerical input¶\n",
    "\n",
    "age = input(\"How old are you? \")\n",
    "age = int(age)\n",
    "\n",
    "if age >= 18:\n",
    "    print(\"You are really a grown-up.\")\n",
    "else:\n",
    "    print(\"You are just a child!\")\n",
    "    \n",
    "# ---\n",
    "height = input(\"\\nHow tall are you, in meters? \")\n",
    "height = float(height)\n",
    "\n",
    "if height >= 1.2:\n",
    "    print(\"You're tall enought to ride!\")\n",
    "else:\n",
    "    print(\"You'll be able to ride when you're a little older.\")"
   ]
  },
  {
   "cell_type": "code",
   "execution_count": null,
   "metadata": {},
   "outputs": [],
   "source": [
    "# The Modulo Operator (%)\n",
    "# It divides one number by another number and returns the remainder.\n",
    "\n",
    "num = input(\"Enter a number, and I'll tell you if it's even or odd: \")\n",
    "num = int(num)\n",
    "\n",
    "if num % 2 == 0:\n",
    "    print(f\"\\nThe number {num} is even.\")\n",
    "else:\n",
    "    print(f\"\\nThe number {num} is odd.\")"
   ]
  },
  {
   "cell_type": "markdown",
   "metadata": {},
   "source": [
    "## Introducing `while` Loops"
   ]
  },
  {
   "cell_type": "code",
   "execution_count": null,
   "metadata": {
    "scrolled": true
   },
   "outputs": [],
   "source": [
    "# Count up through a series of numbers\n",
    "current_num = 1\n",
    "while current_num <= 5:\n",
    "    print(current_num)\n",
    "    current_num += 1"
   ]
  },
  {
   "cell_type": "code",
   "execution_count": null,
   "metadata": {},
   "outputs": [],
   "source": [
    "# Letting the User Choose When to Quit\n",
    "prompt = \"\\nTell me something, and I will repeat it back to you:\"\n",
    "prompt += \"\\nEnter 'quit' to end the program. \"\n",
    "\n",
    "msg = \"\"\n",
    "while msg != 'quit':\n",
    "    msg = input(prompt)\n",
    "    print(msg)"
   ]
  },
  {
   "cell_type": "markdown",
   "metadata": {},
   "source": [
    "### Using a Flag\n",
    "For a program that should run only as long as many conditions are true, you can define one variable that determines whether or not the entire program is active. This variable, called a flag, acts as a signal to the program. We can write our programs so they run while the flag is set to True and stop running when any of several events sets the value of the flag to False."
   ]
  },
  {
   "cell_type": "code",
   "execution_count": null,
   "metadata": {},
   "outputs": [],
   "source": [
    "prompt = \"\\nTell me something, and I will repeat it back to you:\"\n",
    "prompt += \"\\nEnter 'quit' to end the program. \"\n",
    "\n",
    "active = True\n",
    "while active:\n",
    "    msg = input(prompt)\n",
    "    \n",
    "    if msg == 'quit':\n",
    "        active = False\n",
    "    else:\n",
    "        print(msg)"
   ]
  },
  {
   "cell_type": "code",
   "execution_count": null,
   "metadata": {},
   "outputs": [],
   "source": [
    "# Using `break` to Exit a Loop\n",
    "\n",
    "while True:\n",
    "    msg = input(prompt)\n",
    "    \n",
    "    if msg == 'quit':\n",
    "        break\n",
    "    else:\n",
    "        print(msg)"
   ]
  },
  {
   "cell_type": "code",
   "execution_count": null,
   "metadata": {},
   "outputs": [],
   "source": [
    "# Using `continue` in a Loop\n",
    "'''\n",
    "Rather than breaking out of a loop entirely without executing the rest of its\n",
    "code, you can use the continue statement to return to the beginning of the\n",
    "loop based on the result of a conditional test.\n",
    "'''\n",
    "\n",
    "# count from 1 to 10 but prints only the odd numbers in that range:\n",
    "current_num = 0\n",
    "while current_num < 10:\n",
    "    current_num += 1\n",
    "    if current_num % 2 == 0:\n",
    "        continue\n",
    "    \n",
    "    print(current_num)"
   ]
  },
  {
   "cell_type": "code",
   "execution_count": null,
   "metadata": {},
   "outputs": [],
   "source": [
    "# Avoiding Infinite Loops\n",
    "\n",
    "# If you accidently omit the line `x += 1`, the loop will run forever!\n",
    "x = 1\n",
    "while x <= 5:\n",
    "    print(x)"
   ]
  },
  {
   "cell_type": "markdown",
   "metadata": {},
   "source": [
    "### User Input and Loops Exercise"
   ]
  },
  {
   "cell_type": "code",
   "execution_count": null,
   "metadata": {
    "scrolled": true
   },
   "outputs": [],
   "source": [
    "'''\n",
    "Pizza Toppings: Write a loop that prompts the user to enter a series of\n",
    "pizza toppings until they enter a 'quit' value. As they enter each topping,\n",
    "print a message saying you’ll add that topping to their pizza.\n",
    "'''\n",
    "toppings = []\n",
    "prompt = \"\\nEnter the pizza toppings you'd like to order one by one.\"\n",
    "prompt += \"\\nEnter a 'quit' when you finish: \"\n",
    "no_order = \"\\nIt seems that you still don't give your order. Enter your toppings now!\"\n",
    "\n",
    "# --- active method\n",
    "active = True\n",
    "while active:\n",
    "    msg = input(prompt)\n",
    "\n",
    "    if msg == 'quit':\n",
    "        active = False\n",
    "        if len(toppings) == 0:\n",
    "            print(no_order)\n",
    "        else:\n",
    "            print(f\"\\nYou've ordered {len(toppings)} kinds of topping(s), \"\n",
    "                  \"enjoy yourself:\")\n",
    "            for index, topping in enumerate(toppings):\n",
    "                index += 1\n",
    "                print(f\"{index} - {topping.title()}\")\n",
    "    else:\n",
    "        toppings.append(msg)"
   ]
  },
  {
   "cell_type": "code",
   "execution_count": null,
   "metadata": {},
   "outputs": [],
   "source": [
    "# --- conditional test method\n",
    "\n",
    "toppings = []\n",
    "prompt = \"\\nEnter the pizza toppings you'd like to order one by one.\"\n",
    "prompt += \"\\nEnter a 'quit' when you finish: \"\n",
    "\n",
    "msg = \"\"\n",
    "while msg != 'quit':  \n",
    "    if len(msg) > 0:\n",
    "        toppings.append(msg)\n",
    "    msg = input(prompt)\n",
    "        \n",
    "if len(toppings) == 0:\n",
    "    print(\"\\nIt seems that you still don't give your order. \"\n",
    "          \"Enter your toppings now!\")\n",
    "else:\n",
    "    print(f\"\\nYou've ordered {len(toppings)} kinds of topping(s),\"\n",
    "              \"enjoy yourself:\")\n",
    "    for index, topping in enumerate(toppings):\n",
    "        index += 1\n",
    "        print(f\"{index} - {topping.title()}\")"
   ]
  },
  {
   "cell_type": "code",
   "execution_count": null,
   "metadata": {},
   "outputs": [],
   "source": [
    "# --- break method\n",
    "\n",
    "toppings = []\n",
    "prompt = \"\\nEnter the pizza toppings you'd like to order one by one.\"\n",
    "prompt += \"\\nEnter a 'quit' when you finish: \"\n",
    "\n",
    "while True:\n",
    "    msg = input(prompt)\n",
    "    \n",
    "    if msg == 'quit':\n",
    "        break\n",
    "\n",
    "    toppings.append(msg)  \n",
    "        \n",
    "if len(toppings) == 0:\n",
    "    print(\"\\nIt seems that you still don't give your order. \"\n",
    "          \"Enter your toppings now!\")\n",
    "else:\n",
    "    print(f\"\\nYou've ordered {len(toppings)} kinds of topping(s),\"\n",
    "              \"enjoy yourself:\")\n",
    "    for index, topping in enumerate(toppings):\n",
    "        index += 1\n",
    "        print(f\"{index} - {topping.title()}\")"
   ]
  },
  {
   "cell_type": "code",
   "execution_count": null,
   "metadata": {},
   "outputs": [],
   "source": [
    "'''\n",
    "Movie Tickets: A movie theater charges different ticket prices \n",
    "depending on a person’s age. If a person is under the age of 3, \n",
    "the ticket is free; if they are between 3 and 12, the ticket is $10; \n",
    "and if they are over age 12, the ticket is $15. Write a loop in which \n",
    "you ask users their age, and then tell them the cost of their movie ticket.\n",
    "'''\n",
    "age = input(\"Enter your age: \")\n",
    "age = int(age)\n",
    "\n",
    "fee = 0\n",
    "if age < 3:\n",
    "    print(f\"\\nYou're less than 3 years old, and the the movie ticket is free.\")\n",
    "else:\n",
    "    if age >= 3 and age <= 12:\n",
    "        fee = 10\n",
    "    else:\n",
    "        fee = 15\n",
    "    print(f\"\\nYou're {age} years old, and the cost of your ticket is ${fee}.\")"
   ]
  },
  {
   "cell_type": "markdown",
   "metadata": {},
   "source": [
    "## Using a `while` Loop with Lists and Dictionaries\n",
    "### Moving items from one list to another"
   ]
  },
  {
   "cell_type": "code",
   "execution_count": null,
   "metadata": {},
   "outputs": [],
   "source": [
    "# Start with users that need to be verified\n",
    "#  and an empty list to hold confirmed users.\n",
    "unconfirmed_users = ['alice', 'brian', 'candace']\n",
    "confirmed_users = []\n",
    "\n",
    "# Verify each user until there are no more unconfirmed users.\n",
    "# Move each verified user into the list of confirmed users.\n",
    "while unconfirmed_users:\n",
    "    current_user = unconfirmed_users.pop()\n",
    "    \n",
    "    print(f\"Verifying user: {current_user.title()}\")\n",
    "    confirmed_users.append(current_user)\n",
    "    \n",
    "# Display all confirmed users\n",
    "print(\"\\nThe following users have been confirmed:\")\n",
    "for confirmed_user in confirmed_users:\n",
    "    print(confirmed_user.title())"
   ]
  },
  {
   "cell_type": "markdown",
   "metadata": {},
   "source": [
    "### Moving all instances of specific values from a list"
   ]
  },
  {
   "cell_type": "code",
   "execution_count": null,
   "metadata": {},
   "outputs": [],
   "source": [
    "pets = ['dog', 'cat', 'dog', 'goldfish', 'cat', 'rabbit', 'cat']\n",
    "print(pets)\n",
    "\n",
    "while 'cat' in pets:\n",
    "    pets.remove('cat')\n",
    "    \n",
    "print(pets)"
   ]
  },
  {
   "cell_type": "markdown",
   "metadata": {},
   "source": [
    "### Filling a dictionary with user input"
   ]
  },
  {
   "cell_type": "code",
   "execution_count": null,
   "metadata": {},
   "outputs": [],
   "source": [
    "responses = {}\n",
    "\n",
    "# Set a flag to indicate that polling is active\n",
    "polling_active = True\n",
    "\n",
    "while polling_active:\n",
    "    # Prompt for the user's name and response\n",
    "    name = input(\"\\nWhat's your name? \")\n",
    "    response = input(\"Whick mountain would you like to climb someday? \")\n",
    "    \n",
    "    # Store the response in the dictionary\n",
    "    responses[name] = response\n",
    "    \n",
    "    # Find out if anyone else is going to take the poll.\n",
    "    repeat = input(\"Would you like to let another person to respond? (yes/no) \")\n",
    "    if repeat == 'no':\n",
    "        polling_active = False\n",
    "        \n",
    "# Polling is completed. Show the results\n",
    "print(\"\\n--- Poll Results ---\")\n",
    "for name, response in responses.items():\n",
    "    print(f\"{name.title()} would like to climb {response}.\")"
   ]
  },
  {
   "cell_type": "markdown",
   "metadata": {},
   "source": [
    "# CH8 FUNCTIONS\n",
    "## Defining a Function"
   ]
  },
  {
   "cell_type": "code",
   "execution_count": null,
   "metadata": {},
   "outputs": [],
   "source": [
    "def greet_user():\n",
    "    \"\"\"Display a simple greeting.\"\"\"\n",
    "    print(\"Hello!\")\n",
    "    \n",
    "greet_user()"
   ]
  },
  {
   "cell_type": "code",
   "execution_count": null,
   "metadata": {},
   "outputs": [],
   "source": [
    "# Passing Information to a Function\n",
    "\n",
    "def greet_user(username):\n",
    "    print(f\"Hello, {username.title()}!\")\n",
    "    \n",
    "greet_user('grit')"
   ]
  },
  {
   "cell_type": "markdown",
   "metadata": {},
   "source": [
    "## Passing Arguments\n",
    "\n",
    "### *Positional Arguments*\n",
    "\n",
    "When you call a function, Python must match each argument in the function call with a parameter in the function definition. The simplest way to do this is based on the order of the arguments provided. Values matched up this way are called positional arguments."
   ]
  },
  {
   "cell_type": "code",
   "execution_count": null,
   "metadata": {},
   "outputs": [],
   "source": [
    "# Positional arguments\n",
    "def describe_pet(animal_type, pet_name):\n",
    "    \"\"\"Display information about a pet.\"\"\"\n",
    "    print(f\"I have a {animal_type} called {pet_name.title()}.\")\n",
    "    \n",
    "describe_pet('dog', 'willie')"
   ]
  },
  {
   "cell_type": "code",
   "execution_count": null,
   "metadata": {},
   "outputs": [],
   "source": [
    "# Multiple function calls\n",
    "describe_pet('hamster', 'harry')\n",
    "describe_pet('cat', 'cici')"
   ]
  },
  {
   "cell_type": "code",
   "execution_count": null,
   "metadata": {},
   "outputs": [],
   "source": [
    "# Order Matters in Positional Arguments\n",
    "describe_pet('willie', 'dog')"
   ]
  },
  {
   "cell_type": "markdown",
   "metadata": {},
   "source": [
    "### Keyword Arguments\n",
    "Keyword arguments free you from having to worry about correctly ordering your arguments in the function call, and they clarify the role of each value in the function call."
   ]
  },
  {
   "cell_type": "code",
   "execution_count": null,
   "metadata": {},
   "outputs": [],
   "source": [
    "def describe_pet(animal_type, pet_name):\n",
    "    \"\"\"Display information about a pet.\"\"\"\n",
    "    print(f\"I have a {animal_type} called {pet_name.title()}.\")\n",
    "    \n",
    "describe_pet(pet_name='willie', animal_type='dog')"
   ]
  },
  {
   "cell_type": "markdown",
   "metadata": {},
   "source": [
    "### Default Values\n",
    "\n",
    "When you use default values, any parameter with a default value needs to be listed **after** all the parameters that don’t have default values."
   ]
  },
  {
   "cell_type": "code",
   "execution_count": null,
   "metadata": {},
   "outputs": [],
   "source": [
    "def describe_pet(pet_name, animal_type='dog'):\n",
    "    \"\"\"Display information about a pet.\"\"\"\n",
    "    print(f\"I have a {animal_type} called {pet_name.title()}.\")\n",
    "\n",
    "# Equivalent Function Calls\n",
    "\n",
    "print(\"---A dog named Willie.---\")\n",
    "describe_pet('willie')\n",
    "describe_pet(pet_name='willie')\n",
    "\n",
    "print(\"\\n---A cat named Cindy.---\")\n",
    "describe_pet('cindy', 'cat')\n",
    "describe_pet(pet_name='cindy', animal_type='cat')\n",
    "describe_pet(animal_type='cat', pet_name='cindy')"
   ]
  },
  {
   "cell_type": "markdown",
   "metadata": {},
   "source": [
    "### Avoiding Argument Errors"
   ]
  },
  {
   "cell_type": "code",
   "execution_count": null,
   "metadata": {},
   "outputs": [],
   "source": [
    "def describe_pet(animal_type='dog', pet_name):\n",
    "    \"\"\"Display information about a pet.\"\"\"\n",
    "    print(f\"I have a {animal_type} called {pet_name.title()}.\")\n",
    "    \n",
    "describe_pet(pet_name='willie')"
   ]
  },
  {
   "cell_type": "code",
   "execution_count": null,
   "metadata": {},
   "outputs": [],
   "source": [
    "def describe_pet(pet_name, animal_type='dog'):\n",
    "    \"\"\"Display information about a pet.\"\"\"\n",
    "    print(f\"I have a {animal_type} called {pet_name.title()}.\")\n",
    "    \n",
    "describe_pet()"
   ]
  },
  {
   "cell_type": "markdown",
   "metadata": {},
   "source": [
    "## Return Values\n",
    "### Returning a Simple Value"
   ]
  },
  {
   "cell_type": "code",
   "execution_count": null,
   "metadata": {},
   "outputs": [],
   "source": [
    "def get_formatted_name(first_name, last_name):\n",
    "    \"\"\"Return a full name, neatly formatted.\"\"\"\n",
    "    full_name = f\"{first_name} {last_name}\"\n",
    "    return full_name.title()\n",
    "\n",
    "climber = get_formatted_name('jimmy', 'chin')\n",
    "print(f\"That professional climber's full name is {climber}.\")"
   ]
  },
  {
   "cell_type": "markdown",
   "metadata": {},
   "source": [
    "### Making an Argument Optional"
   ]
  },
  {
   "cell_type": "code",
   "execution_count": null,
   "metadata": {},
   "outputs": [],
   "source": [
    "def get_formatted_name(first_name, last_name, middle_name=''):\n",
    "    \"\"\"Return a full name, neatly formatted.\"\"\"\n",
    "    if middle_name:\n",
    "        full_name = f\"{first_name} {middle_name} {last_name}\"\n",
    "    else:\n",
    "        full_name = f\"{first_name} {last_name}\"     \n",
    "    return full_name.title()\n",
    "\n",
    "climber = get_formatted_name('jimmy', 'chin')\n",
    "print(f\"That professional climber's full name is {climber}.\")\n",
    "\n",
    "climber = get_formatted_name('jimmy', 'chin', 'D.')\n",
    "print(f\"That professional climber's full name is {climber}.\")"
   ]
  },
  {
   "cell_type": "markdown",
   "metadata": {},
   "source": [
    "### Returning a Dictionary"
   ]
  },
  {
   "cell_type": "code",
   "execution_count": null,
   "metadata": {},
   "outputs": [],
   "source": [
    "def build_person(first_name, last_name, age=None):\n",
    "    \"\"\"Return a dictionary of information about a person.\"\"\"\n",
    "    person = {'first': first_name, 'last': last_name}\n",
    "    # Extend to accept optional values like age about a person\n",
    "    if age:\n",
    "        person['age'] = age\n",
    "    return person\n",
    "\n",
    "climber = build_person('jimmy', 'chin')\n",
    "print(climber)\n",
    "\n",
    "climber = build_person('jimmy', 'chin', age=47)\n",
    "print(climber)"
   ]
  },
  {
   "cell_type": "markdown",
   "metadata": {},
   "source": [
    "### Using a Function with a `while` Loop"
   ]
  },
  {
   "cell_type": "code",
   "execution_count": null,
   "metadata": {
    "scrolled": true
   },
   "outputs": [],
   "source": [
    "def get_formatted_name(first_name, last_name):\n",
    "    \"\"\"Return a full name, neatly formatted.\"\"\"\n",
    "    full_name = f\"{first_name} {last_name}\"\n",
    "    return full_name.title()\n",
    "\n",
    "while True:\n",
    "    print(\"\\nPlease tell me your name: \")\n",
    "    print(\"(enter 'q' at any time to quit)\")\n",
    "    \n",
    "    f_name = input(\"First Name: \")\n",
    "    if f_name == 'q':\n",
    "        break\n",
    "        \n",
    "    l_name = input(\"Last Name: \")\n",
    "    if l_name == 'q':\n",
    "        break\n",
    "        \n",
    "    formatted_name = get_formatted_name(f_name, l_name)\n",
    "    print(f\"Hello, {formatted_name}!\")"
   ]
  },
  {
   "cell_type": "markdown",
   "metadata": {},
   "source": [
    "### Exercise"
   ]
  },
  {
   "cell_type": "code",
   "execution_count": null,
   "metadata": {},
   "outputs": [],
   "source": [
    "\"\"\"\n",
    "City Names: Write a function called city_country() that takes in the name \n",
    "of a city and its country. The function should return a string formatted \n",
    "like this:\n",
    "\"Santiago, Chile\"\n",
    "\"\"\"\n",
    "def city_country(city_name, country_name):\n",
    "    location = f\"{city_name}, {country_name}\"\n",
    "    return location.title()\n",
    "\n",
    "print(city_country('Santiago', 'Chile'))\n",
    "print(city_country('hangzhou', 'china'))\n",
    "print(city_country('seoul', 'korea'))"
   ]
  },
  {
   "cell_type": "code",
   "execution_count": null,
   "metadata": {},
   "outputs": [],
   "source": [
    "\"\"\"\n",
    "Album: Write a function called make_album() that builds a dictionary\n",
    "describing a music album. The function should take in an artist name and an\n",
    "album title, and it should return a dictionary containing these two pieces of\n",
    "information. Use the function to make three dictionaries representing different\n",
    "albums. Print each return value to show that the dictionaries are storing the\n",
    "album information correctly.\n",
    "Use None to add an optional parameter to make_album() that allows you to\n",
    "store the number of songs on an album. If the calling line includes a value for\n",
    "the number of songs, add that value to the album’s dictionary. Make at least\n",
    "one new function call that includes the number of songs on an album.\n",
    "\"\"\"\n",
    "\n",
    "def make_album(artist_name, album_title, track_num=None):\n",
    "    album = {'artist name': artist_name.title(),\n",
    "             'album title': album_title.title()}\n",
    "    if track_num:\n",
    "        album['track num'] = track_num\n",
    "        print(f\"The music album \\\"{album['album title']}\\\" created \"\n",
    "              f\"by {album['artist name']} includes {album['track num']} songs.\")\n",
    "    else:\n",
    "        print(f\"This amazing music album \\\"{album['album title']}\\\" \"\n",
    "              f\"is created by {album['artist name']}.\")\n",
    "    \n",
    "make_album('the beatles', 'abbey road')\n",
    "make_album('the beatles', 'with the beatles', track_num=15)\n",
    "make_album('bob dylan', \"The Freewheelin' Bob Dylan\", 13)"
   ]
  },
  {
   "cell_type": "code",
   "execution_count": null,
   "metadata": {},
   "outputs": [],
   "source": [
    "\"\"\"\n",
    "User Albums: Start with your program from Exercise 8-7. Write a while\n",
    "loop that allows users to enter an album’s artist and title. Once you have that\n",
    "information, call make_album() with the user’s input and print the dictionary\n",
    "that’s created. Be sure to include a quit value in the while loop.\n",
    "\"\"\"\n",
    "def make_album(artist_name, album_title, track_num=None):\n",
    "    album = {'artist name': artist_name.title(),\n",
    "             'album title': album_title.title()}\n",
    "    if track_num:\n",
    "        album['track num'] = track_num\n",
    "    return album\n",
    "\n",
    "while True:\n",
    "    print(\"\\nTell me something about your favorite music album: \")\n",
    "    print(\"(enter 'q' at any time to quit)\")\n",
    "    \n",
    "    artist = input(\"Artist Name: \")\n",
    "    if artist == 'q':\n",
    "        break\n",
    "    \n",
    "    title = input(\"Album Title: \")\n",
    "    if title == 'q':\n",
    "        break\n",
    "        \n",
    "    track = input(\"Track Num (if you would): \")\n",
    "    if track == 'q':\n",
    "        print(make_album(artist, title))\n",
    "        break\n",
    "    else:\n",
    "        track = int(track)\n",
    "        print(make_album(artist, title, track))"
   ]
  },
  {
   "cell_type": "markdown",
   "metadata": {},
   "source": [
    "## Passing a List"
   ]
  },
  {
   "cell_type": "code",
   "execution_count": null,
   "metadata": {},
   "outputs": [],
   "source": [
    "def greet_users(names):\n",
    "    \"\"\"Print a simple greeting to each user in the list.\"\"\"\n",
    "    for name in names:\n",
    "        msg = f\"Hello, {name.title()}!\"\n",
    "        print(msg)\n",
    "\n",
    "usernames = ['lily', 'acutedog', 'maskman']\n",
    "greet_users(usernames)"
   ]
  },
  {
   "cell_type": "markdown",
   "metadata": {},
   "source": [
    "### Modifying a list in a function"
   ]
  },
  {
   "cell_type": "code",
   "execution_count": null,
   "metadata": {
    "scrolled": true
   },
   "outputs": [],
   "source": [
    "# Start with users that need to be verified\n",
    "#  and an empty list to hold confirmed users.\n",
    "unconfirmed_users = ['alice', 'brian', 'candace']\n",
    "confirmed_users = []\n",
    "\n",
    "# Verify each user until there are no more unconfirmed users.\n",
    "# Move each verified user into the list of confirmed users.\n",
    "while unconfirmed_users:\n",
    "    current_user = unconfirmed_users.pop()\n",
    "    \n",
    "    print(f\"Verifying user: {current_user.title()}\")\n",
    "    confirmed_users.append(current_user)\n",
    "    \n",
    "# Display all confirmed users\n",
    "print(\"\\nThe following users have been confirmed:\")\n",
    "for confirmed_user in confirmed_users:\n",
    "    print(confirmed_user.title())"
   ]
  },
  {
   "cell_type": "code",
   "execution_count": null,
   "metadata": {
    "scrolled": true
   },
   "outputs": [],
   "source": [
    "def verify_users(unconfirmed_users, confirmed_users):\n",
    "    while unconfirmed_users:\n",
    "        current_user = unconfirmed_users.pop()\n",
    "        print(f\"Verifying user: {current_user.title()}\")\n",
    "        confirmed_users.append(current_user)\n",
    "\n",
    "def show_confirmed_users(confirmed_users):\n",
    "    print(\"\\nThe following users have been confirmed:\")\n",
    "    for confirmed_user in confirmed_users:\n",
    "        print(confirmed_user.title())\n",
    "        \n",
    "unconfirmed_users = ['alice', 'brian', 'candace']\n",
    "confirmed_users = []\n",
    "\n",
    "verify_users(unconfirmed_users, confirmed_users)\n",
    "show_confirmed_users(confirmed_users)\n",
    "\n",
    "print(\"\\nThe original list has been cleared:\")\n",
    "print(unconfirmed_users)"
   ]
  },
  {
   "cell_type": "markdown",
   "metadata": {},
   "source": [
    "### Preventing a function from modifying a list\n",
    "\n",
    "You can send a copy of a list to a function like this:\n",
    "\n",
    "`function_name(list_name[:])`"
   ]
  },
  {
   "cell_type": "code",
   "execution_count": null,
   "metadata": {},
   "outputs": [],
   "source": [
    "unconfirmed_users = ['alice', 'brian', 'candace']\n",
    "confirmed_users = []\n",
    "\n",
    "verify_users(unconfirmed_users[:], confirmed_users)\n",
    "show_confirmed_users(confirmed_users)\n",
    "\n",
    "print(\"\\nThe original list is still the same as before:\")\n",
    "print(unconfirmed_users)"
   ]
  },
  {
   "cell_type": "markdown",
   "metadata": {},
   "source": [
    "## **☆☆☆Passing an Arbitrary**\n",
    "\n",
    "### Passing an arbitrary number of arguments\n",
    "\n",
    "The asterisk in the parameter name `*toppings` tells Python to make an empty tuple called toppings and pack whatever values it receives into this tuple.\n",
    "\n",
    "The generic parameter name `*args` collects arbitrary positional arguments."
   ]
  },
  {
   "cell_type": "code",
   "execution_count": null,
   "metadata": {},
   "outputs": [],
   "source": [
    "def make_pizza(*toppings):\n",
    "    \"\"\"Print the toppings that have been reuqested.\"\"\"\n",
    "    print(toppings)\n",
    "    \n",
    "make_pizza('pepperoni')\n",
    "make_pizza('mushrooms', 'green peppers', 'extra cheese')"
   ]
  },
  {
   "cell_type": "code",
   "execution_count": null,
   "metadata": {},
   "outputs": [],
   "source": [
    "def make_pizza(*toppings):\n",
    "    \"\"\"Summarize the pizza we are about to make.\"\"\"\n",
    "    print(\"\\nMaking a pizza with the following toppings:\")\n",
    "    for topping in toppings:\n",
    "        print(f\"- {topping}\")\n",
    "    \n",
    "make_pizza('pepperoni')\n",
    "make_pizza('mushrooms', 'green peppers', 'extra cheese')"
   ]
  },
  {
   "cell_type": "markdown",
   "metadata": {},
   "source": [
    "### Mixing Positional and Arbitrary Arguments\n",
    "\n",
    "If you want a function to accept several different kinds of arguments, the parameter that accepts an arbitrary number of arguments must be placed last in the function definition."
   ]
  },
  {
   "cell_type": "code",
   "execution_count": null,
   "metadata": {},
   "outputs": [],
   "source": [
    "def make_pizza(size, *toppings):\n",
    "    \"\"\"Summarize the pizza we are about to make.\"\"\"\n",
    "    print(f\"\\nMaking a {size}-inch pizza with the following toppings:\")\n",
    "    for topping in toppings:\n",
    "        print(f\"- {topping}\")\n",
    "    \n",
    "make_pizza(16, 'pepperoni')\n",
    "make_pizza(12, 'mushrooms', 'green peppers', 'extra cheese')"
   ]
  },
  {
   "cell_type": "markdown",
   "metadata": {
    "collapsed": true
   },
   "source": [
    "### Using Arbitrary Keyword Arguments\n",
    "\n",
    "Sometimes you’ll want to accept an arbitrary number of arguments, but you\n",
    "won’t know ahead of time what kind of information will be passed to the\n",
    "function. In this case, you can write functions that accept as many key-value\n",
    "pairs as the calling statement provides.\n",
    "\n",
    "The parameter name `**kwargs` used to collect non-specific keyword arguments."
   ]
  },
  {
   "cell_type": "code",
   "execution_count": null,
   "metadata": {},
   "outputs": [],
   "source": [
    "def build_profile(first, last, **user_info):\n",
    "    \"\"\"Build a dictionary containing everything we know about a user.\"\"\"\n",
    "    user_info['first_name'] = first.title()\n",
    "    user_info['last_name'] = last.title()\n",
    "    return user_info\n",
    "\n",
    "user_profile = build_profile('albert', 'einstein',\n",
    "                             location='princeton',\n",
    "                             field='physics')\n",
    "print(user_profile)"
   ]
  },
  {
   "cell_type": "markdown",
   "metadata": {},
   "source": [
    "### Excercise"
   ]
  },
  {
   "cell_type": "code",
   "execution_count": null,
   "metadata": {},
   "outputs": [],
   "source": [
    "\"\"\"\n",
    "Sandwiches: Write a function that accepts a list of items a person wants \n",
    "on a sandwich. The function should have one parameter that collects as many\n",
    "items as the function call provides, and it should print a summary of \n",
    "the sandwich that’s being ordered. Call the function three times, \n",
    "using a different number of arguments each time.\n",
    "\"\"\"\n",
    "def make_sandwich(*fillings):\n",
    "    print(fillings)\n",
    "    \n",
    "make_sandwich('cheese', 'salad')\n",
    "make_sandwich('cheese', 'onion', 'ham', 'Egg mayonnaise')"
   ]
  },
  {
   "cell_type": "code",
   "execution_count": null,
   "metadata": {},
   "outputs": [],
   "source": [
    "\"\"\"\n",
    "User Profile: Start with a copy of user_profile.py from page 149. Build a\n",
    "profile of yourself by calling build_profile(), using your first and last names\n",
    "and three other key-value pairs that describe you.\n",
    "\"\"\"\n",
    "my_profile = build_profile('grit', 'tang',\n",
    "                           location='hangzhou',\n",
    "                           job='product manager')\n",
    "print(f\"My full name is {my_profile['first_name']} {my_profile['last_name']}, \"\n",
    "      f\"a {my_profile['job']} living in {my_profile['location']}.\")"
   ]
  },
  {
   "cell_type": "code",
   "execution_count": null,
   "metadata": {},
   "outputs": [],
   "source": [
    "\"\"\"\n",
    "Cars: Write a function that stores information about a car in a dictionary.\n",
    "The function should always receive a manufacturer and a model name. It\n",
    "should then accept an arbitrary number of keyword arguments. Call the function\n",
    "with the required information and two other name-value pairs, such as a\n",
    "color or an optional feature. Your function should work for a call like this one:\n",
    "car = make_car('subaru', 'outback', color='blue', tow_package=True)\n",
    "\"\"\"\n",
    "def build_profile(manufacturer, model_name, **car_info):\n",
    "    car_info['manufacturer'] = manufacturer\n",
    "    car_info['model_name'] = model_name\n",
    "    return car_info\n",
    "\n",
    "car_profile = build_profile('subaru', 'outback', color='blue', tow_package=True)\n",
    "print(car_profile)"
   ]
  },
  {
   "cell_type": "markdown",
   "metadata": {},
   "source": [
    "## Storing Your Functions in Modules\n",
    "\n",
    "- Allows you to hide the details of your program's code and focus on its higher-level logic.\n",
    "- Allows you to reuse functions in many different programs.\n",
    "- Allows you to share those files with other programmers without having to share your entire program, and to use libraries of functions that other programmers have written."
   ]
  },
  {
   "cell_type": "markdown",
   "metadata": {},
   "source": [
    "### Importing an Entire Module\n",
    "\n",
    "A module is a file ending in .py that contains the code you want to import into your Functions program.\n",
    "\n",
    "Each function in the module is available through the following syntax:\n",
    "- `module_name.function_name()`"
   ]
  },
  {
   "cell_type": "code",
   "execution_count": null,
   "metadata": {},
   "outputs": [],
   "source": [
    "# Let’s make a module that contains the function make_pizza().\n",
    "import pizza\n",
    "\n",
    "pizza.make_pizza(16, 'pepperoni')\n",
    "pizza.make_pizza(12, 'mushrooms', 'green peppers', 'extra cheese')"
   ]
  },
  {
   "cell_type": "markdown",
   "metadata": {},
   "source": [
    "### Importing Specific Functions\n",
    "\n",
    "- `from module_name import function_name`\n",
    "- `from module_name import function_0, function_1, function_2`"
   ]
  },
  {
   "cell_type": "markdown",
   "metadata": {},
   "source": [
    "### Using as to Give a Function an Alias\n",
    "\n",
    "- `from module_name import function_name as fn`"
   ]
  },
  {
   "cell_type": "code",
   "execution_count": null,
   "metadata": {},
   "outputs": [],
   "source": [
    "# Here we give the function make_pizza() an alias, mp(),\n",
    "from pizza import make_pizza as mp\n",
    "\n",
    "mp(16, 'pepperoni')\n",
    "mp(12, 'mushrooms', 'green peppers', 'extra cheese')"
   ]
  },
  {
   "cell_type": "markdown",
   "metadata": {},
   "source": [
    "### Using as to Give a Module an Alias\n",
    "\n",
    "- `import module_name as mn`"
   ]
  },
  {
   "cell_type": "code",
   "execution_count": null,
   "metadata": {},
   "outputs": [],
   "source": [
    "import pizza as p\n",
    "\n",
    "p.make_pizza(16, 'pepperoni')\n",
    "p.make_pizza(12, 'mushrooms', 'green peppers', 'extra cheese')"
   ]
  },
  {
   "cell_type": "markdown",
   "metadata": {},
   "source": [
    "### Importing All Functions in a Module\n",
    "\n",
    "- `from module_name import *`"
   ]
  },
  {
   "cell_type": "code",
   "execution_count": null,
   "metadata": {},
   "outputs": [],
   "source": [
    "from pizza import *\n",
    "\n",
    "make_pizza(16, 'pepperoni')\n",
    "make_pizza(12, 'mushrooms', 'green peppers', 'extra cheese')"
   ]
  },
  {
   "cell_type": "markdown",
   "metadata": {},
   "source": [
    "## Styling Functions\n",
    "\n",
    "1. Functions should have descriptive names, and these names should use lowercase letters and underscores.\n",
    "\n",
    "2. Every function should have a comment that explains concisely what the function does. This comment should appear immediately after the function definition and use the docstring format.\n",
    "\n",
    "3. If you specify a default value for a parameter, no spaces should be used on either side of the equal sign:\n",
    "    - `def function_name(parameter_0, parameter_1='default value')`\n",
    "    \n",
    "    The same convention should be used for keyword arguments in function calls:\n",
    "    \n",
    "    - `function_name(value_0, parameter_1='value')`\n",
    "\n",
    "4. If a set of parameters causes a function’s definition to be longer than 79 characters, press enter after the opening parenthesis on the definition line. On the next line, press tab twice to separate the list of arguments from the body of the function, which will only be indented one level:\n",
    "    ```\n",
    "    def function_name(\n",
    "            parameter_0, parameter_1, parameter_2,\n",
    "            parameter_3, parameter_4, parameter_5):\n",
    "        function body...\n",
    "    ```\n",
    "    \n",
    "5. If your program or module has more than one function, you can separate each by two blank lines to make it easier to see where one function ends and the next one begins.\n",
    "\n",
    "6. All `import` statements should be written at the beginning of a file. The only exception is if you use comments at the beginning of your file to describe the overall program."
   ]
  },
  {
   "cell_type": "markdown",
   "metadata": {},
   "source": [
    "# CH9 - CLASSES\n",
    "\n",
    "In object-oriented programming you write classes that represent real-world things and situations, and you create objects based on these classes. When you write a class, you define the general behavior that a whole category of objects can have."
   ]
  },
  {
   "cell_type": "markdown",
   "metadata": {},
   "source": [
    "## Creating and Using a Class\n",
    "\n",
    "### Creating the Dog Class\n",
    "\n",
    "- The `__init__()` method at w is a special method that Python runs automatically whenever we create a new instance based on the Dog class.\n",
    "\n",
    "- We define the `__init__()` method to have three parameters: `self, name, and age`. The `self` parameter is required in the method definition, and it must come first before the other parameters. It must be included in the definition because when Python calls this method later (to create an instance of Dog), the method call will automatically pass the `self` argument.\n",
    "\n",
    "- The two variables each have the prefix `self`. Any variable prefixed with `self` is available to every method in the class, and we’ll also be able to access these variables through any instance created from the class. Variables that are accessible through instances like this are called **`attributes`**.\n",
    "\n",
    "- The Dog class has two other methods defined: `sit()` and `roll_over() y`."
   ]
  },
  {
   "cell_type": "code",
   "execution_count": null,
   "metadata": {},
   "outputs": [],
   "source": [
    "class Dog:\n",
    "    \"\"\"A simple attempt to model a dog.\"\"\"\n",
    "    \n",
    "    def __init__(self, name, age):\n",
    "        \"\"\"Initialize name and age attributes.\"\"\"\n",
    "        self.name = name\n",
    "        self.age = age\n",
    "        \n",
    "    def sit(self):\n",
    "        \"\"\"Simulate a dog sitting in response to a command.\"\"\"\n",
    "        print(f\"{self.name} is now sitting.\")\n",
    "        \n",
    "    def roll_over(self):\n",
    "        \"\"\"Simulate rolling over in response to a command.\"\"\"\n",
    "        print(f\"{self.name} rolled over!\")"
   ]
  },
  {
   "cell_type": "code",
   "execution_count": null,
   "metadata": {},
   "outputs": [],
   "source": [
    "my_dog = Dog('Willie', 6)\n",
    "\n",
    "print(f\"My dog is {my_dog.age} years old, with its name {my_dog.name}.\")"
   ]
  },
  {
   "cell_type": "markdown",
   "metadata": {},
   "source": [
    "### Accessing Attributes\n",
    "\n",
    "To access the attributes of an instance, you use dot notation:\n",
    "- `my_dog.name`\n",
    "\n",
    "### Calling Methods\n",
    "\n",
    "After we create an instance from the class Dog, we can use dot notation to call any method defined in Dog."
   ]
  },
  {
   "cell_type": "code",
   "execution_count": null,
   "metadata": {},
   "outputs": [],
   "source": [
    "my_dog = Dog('Willie', 6)\n",
    "\n",
    "my_dog.sit()\n",
    "my_dog.roll_over()"
   ]
  },
  {
   "cell_type": "markdown",
   "metadata": {},
   "source": [
    "### Creating Multiple Instances"
   ]
  },
  {
   "cell_type": "code",
   "execution_count": null,
   "metadata": {
    "scrolled": true
   },
   "outputs": [],
   "source": [
    "my_dog = Dog('Lucy', 3)\n",
    "\n",
    "print(f\"My dog is {my_dog.age} years old, with its name {my_dog.name}.\")"
   ]
  },
  {
   "cell_type": "markdown",
   "metadata": {},
   "source": [
    "### Exercise"
   ]
  },
  {
   "cell_type": "code",
   "execution_count": null,
   "metadata": {},
   "outputs": [],
   "source": [
    "class Restaurant:\n",
    "    def __init__(self, restaurant_name, cuisine_type):\n",
    "        self.restaurant_name = restaurant_name\n",
    "        self.cuisine_type = cuisine_type\n",
    "        \n",
    "    def describe_restaurant(self):\n",
    "        \"\"\"Print these two pieces of information.\"\"\"\n",
    "        print(f\"The restaurant {self.restaurant_name} \"\n",
    "              f\"focuses on {self.cuisine_type} cuisine.\")\n",
    "        \n",
    "    def open_restaurant(self):\n",
    "        \"\"\"Print a message indicating that the restaurant is open.\"\"\"\n",
    "        print(f\"The restaurant {self.restaurant_name} is open now.\\n\")\n",
    "        \n",
    "def get_restaurant(restaurant_name, cuisine_type):\n",
    "    \"\"\"Get the basic information of a restaurant.\"\"\"\n",
    "    restaurant = Restaurant(restaurant_name, cuisine_type)\n",
    "    restaurant.describe_restaurant()\n",
    "    restaurant.open_restaurant()\n",
    "\n",
    "get_restaurant('The Dairy Godmother', 'French')\n",
    "get_restaurant('Bistro', 'Italian')\n",
    "get_restaurant('Teahouse', 'Chinese')"
   ]
  },
  {
   "cell_type": "code",
   "execution_count": null,
   "metadata": {},
   "outputs": [],
   "source": [
    "class User:\n",
    "    def __init__(self, first_name, last_name, **user_info):\n",
    "        self.user_info = user_info\n",
    "        self.user_info['First Name'] = first_name.title()\n",
    "        self.user_info['Last Name'] = last_name.title()\n",
    "    \n",
    "    def print_profile(self):\n",
    "        \"\"\"Print the profile of a user.\"\"\"\n",
    "        print(f\"\\nHere is {self.user_info['First Name']} \"\n",
    "              f\"{self.user_info['Last Name']}'s profile: \")\n",
    "        print(self.user_info)\n",
    "    \n",
    "jimmy = User('jimmy', 'chin',\n",
    "             Occupation=['Climber', 'Film director', 'Photographer'], \n",
    "                         KnownFor=['Free solo', 'Meru'])\n",
    "sarah = User('sarah', 'Yang', Hobby='reading')\n",
    "grit = User('grit', 'tang', Location='hangzhou', Occupation='product manager')\n",
    "\n",
    "jimmy.print_profile()\n",
    "sarah.print_profile()\n",
    "grit.print_profile()"
   ]
  },
  {
   "cell_type": "markdown",
   "metadata": {},
   "source": [
    "## Working with Classes and Instances"
   ]
  },
  {
   "cell_type": "code",
   "execution_count": null,
   "metadata": {},
   "outputs": [],
   "source": [
    "class Car:\n",
    "    \"\"\"A simple attempt to represent a car.\"\"\"\n",
    "    \n",
    "    def __init__(self, manufacturer, model, year):\n",
    "        \"\"\"Initialize attributes to describe a car.\"\"\"\n",
    "        self.manufacturer = manufacturer\n",
    "        self.model = model\n",
    "        self.year = year\n",
    "        \n",
    "    def get_descriptive_name(self):\n",
    "        \"\"\"Return a neatly formatted descriptive name.\"\"\"\n",
    "        long_name = f\"{self.year} {self.manufacturer} {self.model}\"\n",
    "        return long_name.title()\n",
    "    \n",
    "my_new_car = Car('audi', 'a8l', 2020)\n",
    "print(my_new_car.get_descriptive_name())"
   ]
  },
  {
   "cell_type": "markdown",
   "metadata": {},
   "source": [
    "### Setting a Default Value for an Attribute\n",
    "\n",
    "When an instance is created, attributes can be defined without being passed in as parameters. These attributes can be defined in the `__init__()` method, where they are assigned a default value."
   ]
  },
  {
   "cell_type": "code",
   "execution_count": null,
   "metadata": {},
   "outputs": [],
   "source": [
    "class Car:\n",
    "    \"\"\"A simple attempt to represent a car.\"\"\"\n",
    "    \n",
    "    def __init__(self, manufacturer, model, year):\n",
    "        \"\"\"Initialize attributes to describe a car.\"\"\"\n",
    "        self.manufacturer = manufacturer\n",
    "        self.model = model\n",
    "        self.year = year\n",
    "        self.odometer_reading = 0 # Default value for attributes here.\n",
    "        \n",
    "    def get_descriptive_name(self):\n",
    "        \"\"\"Return a neatly formatted descriptive name.\"\"\"\n",
    "        long_name = f\"{self.year} {self.manufacturer} {self.model}\"\n",
    "        return long_name.title()\n",
    "    \n",
    "    def read_odometer(self):\n",
    "        \"\"\"Print a statement showing the car's mileage.\"\"\"\n",
    "        print(f\"This car has {self.odometer_reading} miles on it.\")\n",
    "        \n",
    "my_new_car = Car('audi', 'a8l', 2020)\n",
    "print(my_new_car.get_descriptive_name())\n",
    "my_new_car.read_odometer()"
   ]
  },
  {
   "cell_type": "markdown",
   "metadata": {},
   "source": [
    "### Modifying Attribute Values"
   ]
  },
  {
   "cell_type": "code",
   "execution_count": null,
   "metadata": {},
   "outputs": [],
   "source": [
    "# Modifying an Attribute’s Value Directly\n",
    "\n",
    "my_new_car.odometer_reading = 23\n",
    "my_new_car.read_odometer()"
   ]
  },
  {
   "cell_type": "code",
   "execution_count": null,
   "metadata": {},
   "outputs": [],
   "source": [
    "# Modifying an Attribute’s Value Through a Method\n",
    "\n",
    "class Car:\n",
    "    \"\"\"A simple attempt to represent a car.\"\"\"\n",
    "    \n",
    "    def __init__(self, manufacturer, model, year):\n",
    "        \"\"\"Initialize attributes to describe a car.\"\"\"\n",
    "        self.manufacturer = manufacturer\n",
    "        self.model = model\n",
    "        self.year = year\n",
    "        self.odometer_reading = 0 # Default value for attributes here.\n",
    "        \n",
    "    def get_descriptive_name(self):\n",
    "        \"\"\"Return a neatly formatted descriptive name.\"\"\"\n",
    "        long_name = f\"{self.year} {self.manufacturer} {self.model}\"\n",
    "        return long_name.title()\n",
    "    \n",
    "    def read_odometer(self):\n",
    "        \"\"\"Print a statement showing the car's mileage.\"\"\"\n",
    "        print(f\"This car has {self.odometer_reading} miles on it.\")\n",
    "        \n",
    "    def update_odometer(self, mileage):\n",
    "        \"\"\"Set the odometer reading to the given value.\"\"\"\n",
    "        self.odometer_reading = mileage\n",
    "        \n",
    "my_new_car = Car('audi', 'a8l', 2020)\n",
    "print(my_new_car.get_descriptive_name())\n",
    "\n",
    "my_new_car.update_odometer(23)\n",
    "my_new_car.read_odometer()"
   ]
  },
  {
   "cell_type": "code",
   "execution_count": null,
   "metadata": {},
   "outputs": [],
   "source": [
    "class Car:\n",
    "    \"\"\"A simple attempt to represent a car.\"\"\"\n",
    "    \n",
    "    def __init__(self, manufacturer, model, year):\n",
    "        \"\"\"Initialize attributes to describe a car.\"\"\"\n",
    "        self.manufacturer = manufacturer\n",
    "        self.model = model\n",
    "        self.year = year\n",
    "        self.odometer_reading = 100 # Default value for attributes here.\n",
    "        \n",
    "    def get_descriptive_name(self):\n",
    "        \"\"\"Return a neatly formatted descriptive name.\"\"\"\n",
    "        long_name = f\"{self.year} {self.manufacturer} {self.model}\"\n",
    "        return long_name.title()\n",
    "    \n",
    "    def read_odometer(self):\n",
    "        \"\"\"Print a statement showing the car's mileage.\"\"\"\n",
    "        print(f\"This car has {self.odometer_reading} miles on it.\")\n",
    "        \n",
    "    def update_odometer(self, mileage):\n",
    "        \"\"\"\n",
    "        Set the odometer reading to the given value.\n",
    "        Reject the change if it attempts to roll the odometer back.\n",
    "        \"\"\"\n",
    "        if mileage >= self.odometer_reading:\n",
    "            self.odometer_reading = mileage\n",
    "        else:\n",
    "            print(\"You can't roll back an odometer!\")\n",
    "    \n",
    "my_crt_car = Car('bmw', 'e325', 2019)\n",
    "print(my_crt_car.get_descriptive_name())\n",
    "\n",
    "mileage = input(\"\\nEnter the current odometer reading: \")\n",
    "my_crt_car.update_odometer(int(mileage))\n",
    "my_crt_car.read_odometer()"
   ]
  },
  {
   "cell_type": "code",
   "execution_count": null,
   "metadata": {
    "scrolled": true
   },
   "outputs": [],
   "source": [
    "# Incrementing an Attribute’s Value Through a Method\n",
    "\n",
    "class Car:\n",
    "    \"\"\"A simple attempt to represent a car.\"\"\"\n",
    "    \n",
    "    def __init__(self, manufacturer, model, year):\n",
    "        \"\"\"Initialize attributes to describe a car.\"\"\"\n",
    "        self.manufacturer = manufacturer\n",
    "        self.model = model\n",
    "        self.year = year\n",
    "        self.odometer_reading = 100 # Default value for attributes here.\n",
    "        \n",
    "    def get_descriptive_name(self):\n",
    "        \"\"\"Return a neatly formatted descriptive name.\"\"\"\n",
    "        long_name = f\"{self.year} {self.manufacturer} {self.model}\"\n",
    "        return long_name.title()\n",
    "    \n",
    "    def read_odometer(self):\n",
    "        \"\"\"Print a statement showing the car's mileage.\"\"\"\n",
    "        print(f\"This car has {self.odometer_reading} miles on it.\")\n",
    "        \n",
    "    def increment_odometer(self, miles):\n",
    "        \"\"\"Add the given amount to the odometer reading.\"\"\"\n",
    "        self.odometer_reading += int(miles)\n",
    "    \n",
    "my_crt_car = Car('bmw', 'e325', 2019)\n",
    "print(my_crt_car.get_descriptive_name())\n",
    "\n",
    "miles = input(\"\\nEnter the incremental amount of odometer reading: \")\n",
    "my_crt_car.increment_odometer(miles)\n",
    "my_crt_car.read_odometer()"
   ]
  },
  {
   "cell_type": "markdown",
   "metadata": {},
   "source": [
    "### Exercise"
   ]
  },
  {
   "cell_type": "code",
   "execution_count": null,
   "metadata": {},
   "outputs": [],
   "source": [
    "# Number Served:\n",
    "class Restaurant:\n",
    "    def __init__(self, restaurant_name, cuisine_type):\n",
    "        self.restaurant_name = restaurant_name\n",
    "        self.cuisine_type = cuisine_type\n",
    "        self.number_served = 0 # Default vaule of Number Served.\n",
    "        \n",
    "    def describe_restaurant(self):\n",
    "        \"\"\"Print these two pieces of information.\"\"\"\n",
    "        print(f\"The restaurant {self.restaurant_name} \"\n",
    "              f\"focuses on {self.cuisine_type} cuisine.\")\n",
    "        \n",
    "    def open_restaurant(self):\n",
    "        \"\"\"Print a message indicating that the restaurant is open.\"\"\"\n",
    "        print(f\"The restaurant {self.restaurant_name} is open now.\\n\")\n",
    "        \n",
    "    def increment_number_served(self, customer_num):\n",
    "        \"\"\"Indicate how many customers were served.\"\"\"\n",
    "        self.number_served += customer_num\n",
    "        served_description = f\"The restaurant \\\"{self.restaurant_name}\\\" \"\\\n",
    "                             f\"has served {self.number_served} customers \"\\\n",
    "                             f\"in a day of business.\\n\"\n",
    "        print(served_description)     \n",
    "        \n",
    "bistro_restaurant = Restaurant('Bistro', 'Italian')\n",
    "\n",
    "bistro_restaurant.describe_restaurant()\n",
    "bistro_restaurant.open_restaurant()\n",
    "bistro_restaurant.increment_number_served(53)"
   ]
  },
  {
   "cell_type": "code",
   "execution_count": null,
   "metadata": {},
   "outputs": [],
   "source": [
    "# Login Attempts:\n",
    "class User:\n",
    "    \n",
    "    def __init__(self, first_name, last_name, **user_info):\n",
    "        self.user_info = user_info\n",
    "        self.user_info['First Name'] = first_name.title()\n",
    "        self.user_info['Last Name'] = last_name.title()\n",
    "        self.login_attempts = 0\n",
    "    \n",
    "    def print_profile(self):\n",
    "        \"\"\"Print the profile of a user.\"\"\"\n",
    "        print(f\"\\nHere is {self.user_info['First Name']} \"\n",
    "              f\"{self.user_info['Last Name']}'s profile: \")\n",
    "        print(self.user_info)\n",
    "        \n",
    "    def increment_login_attempts(self):\n",
    "        \"\"\"\n",
    "        Increment the value of login attemps by 1.\n",
    "        \"\"\"\n",
    "        self.login_attempts += 1\n",
    "#         print(self.login_attempts)\n",
    "        \n",
    "    def reset_login_attempts(self):\n",
    "        \"\"\"Make sure the login attempts is reset to 0.\"\"\"\n",
    "        self.login_attempts = 0\n",
    "    \n",
    "jimmy = User('jimmy', 'chin',\n",
    "             Occupation=['Climber', 'Film director', 'Photographer'], \n",
    "             KnownFor=['Free solo', 'Meru'])\n",
    "sarah = User('sarah', 'Yang', Hobby='reading')\n",
    "grit = User('grit', 'tang', Location='hangzhou', Occupation='product manager')\n",
    "\n",
    "jimmy.print_profile()\n",
    "sarah.print_profile()\n",
    "grit.print_profile()\n",
    "\n",
    "print(\"\\nMaking 3 login attempts...\")\n",
    "grit.increment_login_attempts()\n",
    "grit.increment_login_attempts()\n",
    "grit.increment_login_attempts()\n",
    "print(\"  Login attempts: \" + str(grit.login_attempts))\n",
    "\n",
    "print(\"Resetting the login attempts...\")\n",
    "grit.reset_login_attempts()\n",
    "print(\"  Login attempts: \" + str(grit.login_attempts))"
   ]
  },
  {
   "cell_type": "markdown",
   "metadata": {},
   "source": [
    "## Inheritance\n",
    "\n",
    "- The child class can inherit any or all of the attributes and methods of its parent class, but it’s also free to define new attributes and methods of its own.\n",
    "\n",
    "- When you create a child class, the parent class must be part of the current file and must appear **before** the child class in the file. \n",
    "\n",
    "- The name of the parent class must be **included in parentheses** in the definition of a child class.\n",
    "\n",
    "- The **`super()`** function is a special function that allows you to call a method from the parent class. This line tells Python to call the `__init__()` method from Car, which gives an `ElectricCar` instance all the attributes defined in that method. The name *super* comes from a convention of calling the parent class a *superclass* and the child class a *subclass*.\n",
    "\n",
    "### The __init__() Method for a Child Class"
   ]
  },
  {
   "cell_type": "code",
   "execution_count": null,
   "metadata": {
    "scrolled": true
   },
   "outputs": [],
   "source": [
    "class Car:\n",
    "    \"\"\"A simple attempt to represent a car.\"\"\"\n",
    "    \n",
    "    def __init__(self, manufacturer, model, year):\n",
    "        self.manufacturer = manufacturer\n",
    "        self.model = model\n",
    "        self.year = year\n",
    "        self.odometer_reading = 100\n",
    "        \n",
    "    def get_descriptive_name(self):\n",
    "        long_name = f\"{self.year} {self.manufacturer} {self.model}\"\n",
    "        return long_name.title()\n",
    "    \n",
    "    def read_odometer(self):\n",
    "        print(f\"This car has {self.odometer_reading} miles on it.\")\n",
    "        \n",
    "    def increment_odometer(self, miles):\n",
    "        self.odometer_reading += int(miles)\n",
    "    \n",
    "class ElectricCar(Car):\n",
    "    \"\"\"Represent aspects of a car, specific to electric vehicles.\"\"\"\n",
    "    \n",
    "    def __init__(self, manufacturer, model, year):\n",
    "        \"\"\"Initialize attributes of the parent class.\"\"\"\n",
    "        super().__init__(manufacturer, model, year)\n",
    "        \n",
    "my_tesla = ElectricCar('tesla', 'model s', 2019)\n",
    "print(my_tesla.get_descriptive_name())"
   ]
  },
  {
   "cell_type": "markdown",
   "metadata": {},
   "source": [
    "### Defining Attributes and Methods for the Child Class"
   ]
  },
  {
   "cell_type": "code",
   "execution_count": null,
   "metadata": {
    "scrolled": true
   },
   "outputs": [],
   "source": [
    "class Car:\n",
    "    \"\"\"A simple attempt to represent a car.\"\"\"\n",
    "    \n",
    "    def __init__(self, manufacturer, model, year):\n",
    "        self.manufacturer = manufacturer\n",
    "        self.model = model\n",
    "        self.year = year\n",
    "        self.odometer_reading = 100\n",
    "        \n",
    "    def get_descriptive_name(self):\n",
    "        long_name = f\"{self.year} {self.manufacturer} {self.model}\"\n",
    "        return long_name.title()\n",
    "    \n",
    "    def read_odometer(self):\n",
    "        print(f\"This car has {self.odometer_reading} miles on it.\")\n",
    "        \n",
    "    def increment_odometer(self, miles):\n",
    "        self.odometer_reading += int(miles)\n",
    "    \n",
    "class ElectricCar(Car):\n",
    "    \"\"\"Represent aspects of a car, specific to electric vehicles.\"\"\"\n",
    "    \n",
    "    def __init__(self, manufacturer, model, year):\n",
    "        \"\"\"\n",
    "        Initialize attributes of the parent class.\n",
    "        Then initialize attributes specific to an electric car.\n",
    "        \"\"\"\n",
    "        super().__init__(manufacturer, model, year)\n",
    "        self.battery_size = 75\n",
    "        \n",
    "    def describle_battery(self):\n",
    "        \"\"\"Print a statement describing the battery size.\"\"\"\n",
    "        print(f\"This electric car has a {self.battery_size}-KWh battery.\")\n",
    "        \n",
    "my_tesla = ElectricCar('tesla', 'model s', 2019)\n",
    "\n",
    "print(my_tesla.get_descriptive_name())\n",
    "my_tesla.describle_battery()"
   ]
  },
  {
   "cell_type": "markdown",
   "metadata": {
    "collapsed": true
   },
   "source": [
    "### Overriding Methods from the Parent Class"
   ]
  },
  {
   "cell_type": "code",
   "execution_count": null,
   "metadata": {},
   "outputs": [],
   "source": [
    "class ElectricCar(Car):\n",
    "    --snip--\n",
    "    \n",
    "    def fill_gas_tank(self):\n",
    "        \"\"\"Electric cars don't have gas tanks.\"\"\"\n",
    "        print(\"This car doesn't need a gas tank!\")"
   ]
  },
  {
   "cell_type": "markdown",
   "metadata": {},
   "source": [
    "### Instances as Attributes\n",
    "\n",
    "You can break your large class into smaller\n",
    "classes that work together."
   ]
  },
  {
   "cell_type": "code",
   "execution_count": null,
   "metadata": {
    "scrolled": true
   },
   "outputs": [],
   "source": [
    "class Car:\n",
    "    \"\"\"A simple attempt to represent a car.\"\"\"\n",
    "    \n",
    "    def __init__(self, manufacturer, model, year):\n",
    "        self.manufacturer = manufacturer\n",
    "        self.model = model\n",
    "        self.year = year\n",
    "        self.odometer_reading = 100\n",
    "        \n",
    "    def get_descriptive_name(self):\n",
    "        long_name = f\"{self.year} {self.manufacturer} {self.model}\"\n",
    "        return long_name.title()\n",
    "    \n",
    "    def read_odometer(self):\n",
    "        print(f\"This car has {self.odometer_reading} miles on it.\")\n",
    "        \n",
    "    def increment_odometer(self, miles):\n",
    "        self.odometer_reading += int(miles)\n",
    "\n",
    "class Battery:\n",
    "    \"\"\"Move those attributes and methods to a separate class called Battery.\"\"\"\n",
    "    \n",
    "    def __init__(self, battery_size=75):\n",
    "        \"\"\"Initialize the battery's attributes.\"\"\"\n",
    "        self.battery_size = battery_size\n",
    "        \n",
    "    def describle_battery(self):\n",
    "        \"\"\"Print a statement describing the battery size.\"\"\"\n",
    "        print(f\"This electric car has a {self.battery_size}-KWh battery.\")\n",
    "        \n",
    "    def get_range(self):\n",
    "        \"\"\"Print a statement about the range this battery provides.\"\"\"\n",
    "        if self.battery_size == 75:\n",
    "            range = 260\n",
    "        elif self.battery_size == 100:\n",
    "            range = 315\n",
    "            \n",
    "        print(f\"This car can go about {range} miles on a full charge.\")\n",
    "        \n",
    "    def fill_gas_tank(self):\n",
    "        \"\"\"Electric cars don't have gas tanks.\"\"\"\n",
    "        print(\"This car doesn't need a gas tank!\")\n",
    "        \n",
    "class ElectricCar(Car):\n",
    "    \"\"\"Represent aspects of a car, specific to electric vehicles.\"\"\"\n",
    "    \n",
    "    def __init__(self, manufacturer, model, year):\n",
    "        \"\"\"\n",
    "        Initialize attributes of the parent class.\n",
    "        Then initialize attributes specific to an electric car.\n",
    "        \"\"\"\n",
    "        super().__init__(manufacturer, model, year)\n",
    "        self.battery = Battery()  \n",
    "        \n",
    "my_tesla = ElectricCar('tesla', 'model s', 2019)\n",
    "\n",
    "print(my_tesla.get_descriptive_name())\n",
    "my_tesla.battery.describle_battery()\n",
    "\n",
    "print(\"\\nModify the battery size and get its range:\")\n",
    "my_tesla.battery.battery_size = 100\n",
    "my_tesla.battery.describle_battery()\n",
    "my_tesla.battery.get_range()"
   ]
  },
  {
   "cell_type": "code",
   "execution_count": null,
   "metadata": {
    "scrolled": false
   },
   "outputs": [],
   "source": [
    "class Car:\n",
    "    \"\"\"A simple attempt to represent a car.\"\"\"\n",
    "    \n",
    "    def __init__(self, manufacturer, model, year):\n",
    "        self.manufacturer = manufacturer\n",
    "        self.model = model\n",
    "        self.year = year\n",
    "        self.odometer_reading = 100\n",
    "        \n",
    "    def get_descriptive_name(self):\n",
    "        long_name = f\"{self.year} {self.manufacturer} {self.model}\"\n",
    "        return long_name.title()\n",
    "    \n",
    "    def read_odometer(self):\n",
    "        print(f\"This car has {self.odometer_reading} miles on it.\")\n",
    "        \n",
    "    def increment_odometer(self, miles):\n",
    "        self.odometer_reading += int(miles)\n",
    "\n",
    "class Battery:\n",
    "    \"\"\"Move those attributes and methods to a separate class called Battery.\"\"\"\n",
    "    \n",
    "    def __init__(self, battery_size=75):\n",
    "        \"\"\"Initialize the battery's attributes.\"\"\"\n",
    "        self.battery_size = battery_size\n",
    "            \n",
    "    def fill_gas_tank(self):\n",
    "        \"\"\"Electric cars don't have gas tanks.\"\"\"\n",
    "        print(\"This car doesn't need a gas tank!\")\n",
    "        \n",
    "class ElectricCar(Car):\n",
    "    \"\"\"Represent aspects of a car, specific to electric vehicles.\"\"\"\n",
    "    \n",
    "    def __init__(self, manufacturer, model, year):\n",
    "        \"\"\"\n",
    "        Initialize attributes of the parent class.\n",
    "        Then initialize attributes specific to an electric car.\n",
    "        \"\"\"\n",
    "        super().__init__(manufacturer, model, year)\n",
    "        self.battery = Battery()\n",
    "    \n",
    "    def describle_battery(self):\n",
    "        \"\"\"Print a statement describing the battery size.\"\"\"\n",
    "        print(f\"This {self.model} car has a {self.battery.battery_size}-KWh battery.\")\n",
    "        \n",
    "    def get_range(self):\n",
    "        \"\"\"Print a statement about the range this battery provides.\"\"\"\n",
    "        if self.battery.battery_size == 75:\n",
    "            range = 260\n",
    "        elif self.battery.battery_size == 100:\n",
    "            range = 315\n",
    "            \n",
    "        print(f\"This {self.model} car can go about {range} miles on a full charge.\")\n",
    "        \n",
    "my_tesla = ElectricCar('tesla', 'model s', 2019)\n",
    "\n",
    "print(my_tesla.get_descriptive_name())\n",
    "my_tesla.describle_battery()\n",
    "my_tesla.battery.fill_gas_tank()\n",
    "\n",
    "print(\"\\nModify the battery size and get its range:\")\n",
    "my_tesla.battery.battery_size = 100\n",
    "my_tesla.describle_battery()\n",
    "my_tesla.get_range()"
   ]
  },
  {
   "cell_type": "markdown",
   "metadata": {},
   "source": [
    "### Exercise"
   ]
  },
  {
   "cell_type": "code",
   "execution_count": null,
   "metadata": {},
   "outputs": [],
   "source": [
    "# Ice cream\n",
    "class Restaurant:\n",
    "    def __init__(self, restaurant_name, cuisine_type):\n",
    "        self.restaurant_name = restaurant_name.title()\n",
    "        self.cuisine_type = cuisine_type\n",
    "        \n",
    "    def describe_restaurant(self):\n",
    "        \"\"\"Print these two pieces of information.\"\"\"\n",
    "        print(f\"{self.restaurant_name} serves woderful {self.cuisine_type}.\")\n",
    "        \n",
    "    def open_restaurant(self):\n",
    "        \"\"\"Print a message indicating that the restaurant is open.\"\"\"\n",
    "        print(f\"The restaurant {self.restaurant_name} is open now.\\n\")\n",
    "        \n",
    "class IceCreamStand(Restaurant):\n",
    "    def __init__(self, restaurant_name, cuisine_type):\n",
    "        super().__init__(restaurant_name, cuisine_type)\n",
    "        self.flavors = []\n",
    "        \n",
    "    def show_flavors(self):\n",
    "        print(\"\\nWe have the following flavors available:\")\n",
    "        for flavor in self.flavors:\n",
    "            print(\"- \" + flavor.title())\n",
    "\n",
    "dairy_godmother = IceCreamStand('the dairy godmother', 'French')\n",
    "dairy_godmother.flavors = ['vanilla', 'chocolate', 'Mint chocolate chip']\n",
    "\n",
    "dairy_godmother.describe_restaurant()\n",
    "dairy_godmother.show_flavors()"
   ]
  },
  {
   "cell_type": "code",
   "execution_count": null,
   "metadata": {},
   "outputs": [],
   "source": [
    "# Admin\n",
    "class User():\n",
    "    \"\"\"Represent a simple user profile.\"\"\"\n",
    "\n",
    "    def __init__(self, first_name, last_name, username, email, location):\n",
    "        \"\"\"Initialize the user.\"\"\"\n",
    "        self.first_name = first_name.title()\n",
    "        self.last_name = last_name.title()\n",
    "        self.username = username\n",
    "        self.email = email\n",
    "        self.location = location.title()\n",
    "        self.login_attempts = 0\n",
    "\n",
    "    def describe_user(self):\n",
    "        \"\"\"Display a summary of the user's information.\"\"\"\n",
    "        print(\"\\n\" + self.first_name + \" \" + self.last_name)\n",
    "        print(\"  Username: \" + self.username)\n",
    "        print(\"  Email: \" + self.email)\n",
    "        print(\"  Location: \" + self.location)\n",
    "\n",
    "    def greet_user(self):\n",
    "        \"\"\"Display a personalized greeting to the user.\"\"\"\n",
    "        print(\"\\nWelcome back, \" + self.username + \"!\")\n",
    "\n",
    "    def increment_login_attempts(self):\n",
    "        \"\"\"Increment the value of login_attempts.\"\"\"\n",
    "        self.login_attempts += 1\n",
    "\n",
    "    def reset_login_attempts(self):\n",
    "        \"\"\"Reset login_attempts to 0.\"\"\"\n",
    "        self.login_attempts = 0\n",
    "    \n",
    "class Admin(User):\n",
    "    \"\"\"A user with administrative privileges.\"\"\"\n",
    "    \n",
    "    def __init__(self, first_name, last_name, username, email, location):\n",
    "        super().__init__(first_name, last_name, username, email, location)\n",
    "        self.priviledges = Priviledges()\n",
    "        \n",
    "class Priviledges():\n",
    "    \"\"\"A class to store an admin's privileges.\"\"\"\n",
    "    \n",
    "    def __init__(self, priviledges=[]):\n",
    "        self.priviledges = priviledges\n",
    "        \n",
    "    def show_priviledges(self):\n",
    "        print(\"\\nPriviledges:\")\n",
    "        if self.priviledges:\n",
    "            for priviledge in self.priviledges:\n",
    "                print(f\"- {priviledge}\")\n",
    "        else:\n",
    "            print(\"- This user has no priviledges!\")\n",
    "                        \n",
    "grit = Admin('grit', 'tang', 'simplato', 'grittang@gmail.com', 'hangzhou')\n",
    "grit.describe_user()\n",
    "\n",
    "grit.priviledges.show_priviledges()\n",
    "\n",
    "print(\"\\nAdding priviledges...\")\n",
    "grit.priviledges.priviledges = [\n",
    "    'can add posts', \n",
    "    'can delete posts', \n",
    "    'can ban users',\n",
    "    'can suspend accounts',\n",
    "    'can reset password',\n",
    "    ]\n",
    "grit.priviledges.show_priviledges()"
   ]
  },
  {
   "cell_type": "code",
   "execution_count": null,
   "metadata": {
    "scrolled": true
   },
   "outputs": [],
   "source": [
    "# Battery upgrade\n",
    "class Car():\n",
    "    \"\"\"A simple attempt to represent a car.\"\"\"\n",
    "\n",
    "    def __init__(self, manufacturer, model, year):\n",
    "        \"\"\"Initialize attributes to describe a car.\"\"\"\n",
    "        self.manufacturer = manufacturer\n",
    "        self.model = model\n",
    "        self.year = year\n",
    "        self.odometer_reading = 0\n",
    "        \n",
    "    def get_descriptive_name(self):\n",
    "        \"\"\"Return a neatly formatted descriptive name.\"\"\"\n",
    "        long_name = str(self.year) + ' ' + self.manufacturer + ' ' + self.model\n",
    "        return long_name.title()\n",
    "    \n",
    "    def read_odometer(self):\n",
    "        \"\"\"Print a statement showing the car's mileage.\"\"\"\n",
    "        print(\"This car has \" + str(self.odometer_reading) + \" miles on it.\")\n",
    "        \n",
    "    def update_odometer(self, mileage):\n",
    "        \"\"\"\n",
    "        Set the odometer reading to the given value.\n",
    "        Reject the change if it attempts to roll the odometer back.\n",
    "        \"\"\"\n",
    "        if mileage >= self.odometer_reading:\n",
    "            self.odometer_reading = mileage\n",
    "        else:\n",
    "            print(\"You can't roll back an odometer!\")\n",
    "    \n",
    "    def increment_odometer(self, miles):\n",
    "        \"\"\"Add the given amount to the odometer reading.\"\"\"\n",
    "        self.odometer_reading += miles\n",
    "        \n",
    "class Battery:\n",
    "    \"\"\"Move those attributes and methods to a separate class called Battery.\"\"\"\n",
    "    \n",
    "    def __init__(self, battery_size=75):\n",
    "        \"\"\"Initialize the battery's attributes.\"\"\"\n",
    "        self.battery_size = battery_size\n",
    "            \n",
    "    def fill_gas_tank(self):\n",
    "        \"\"\"Electric cars don't have gas tanks.\"\"\"\n",
    "        print(\"This car doesn't need a gas tank!\")\n",
    "        \n",
    "    def describle_battery(self):\n",
    "        \"\"\"Print a statement describing the battery size.\"\"\"\n",
    "        print(f\"This car has a {self.battery_size}-KWh battery.\")\n",
    "        \n",
    "    def get_range(self):\n",
    "        \"\"\"Print a statement about the range this battery provides.\"\"\"\n",
    "        if self.battery_size == 75:\n",
    "            range = 260\n",
    "        elif self.battery_size == 100:\n",
    "            range = 315\n",
    "            \n",
    "        print(f\"This car can go about {range} miles on a full charge.\")\n",
    "   \n",
    "    def upgrade_battery(self):\n",
    "        \"\"\"Check the battery size and set the capacity to 100 if it isn't already.\"\"\"\n",
    "        if self.battery_size < 100:\n",
    "            print(\"\\nUpgrade the battery to 100KWh...\")\n",
    "            self.battery_size = 100\n",
    "        else:\n",
    "            print(\"\\nThe battery is already upgraded.\")\n",
    "            \n",
    "class ElectricCar(Car):\n",
    "    \"\"\"Represent aspects of a car, specific to electric vehicles.\"\"\"\n",
    "    \n",
    "    def __init__(self, manufacturer, model, year):\n",
    "        \"\"\"\n",
    "        Initialize attributes of the parent class.\n",
    "        Then initialize attributes specific to an electric car.\n",
    "        \"\"\"\n",
    "        super().__init__(manufacturer, model, year)\n",
    "        self.battery = Battery()\n",
    "        \n",
    "print(\"Make an electric car, and check the battery:\\n\")\n",
    "my_tesla = ElectricCar('tesla', 'model s', 2019)\n",
    "my_tesla.battery.describle_battery()\n",
    "my_tesla.battery.get_range()\n",
    "\n",
    "print(\"\\nUpgrade the battery, and check it again:\")\n",
    "my_tesla.battery.upgrade_battery()\n",
    "my_tesla.battery.describle_battery()\n",
    "my_tesla.battery.get_range()"
   ]
  },
  {
   "cell_type": "markdown",
   "metadata": {},
   "source": [
    "## Importing Classes\n",
    "\n",
    "You should write a docstring for each module you create."
   ]
  },
  {
   "cell_type": "code",
   "execution_count": null,
   "metadata": {},
   "outputs": [],
   "source": [
    "from car import Car\n",
    "\n",
    "my_new_car = Car('mercedes', 'EQC', 2020)\n",
    "print(my_new_car.get_descriptive_name())\n",
    "\n",
    "my_new_car.odometer_reading = 23\n",
    "my_new_car.read_odometer()"
   ]
  },
  {
   "cell_type": "markdown",
   "metadata": {},
   "source": [
    "### Storing Multiple Classes in a Module"
   ]
  },
  {
   "cell_type": "code",
   "execution_count": null,
   "metadata": {},
   "outputs": [],
   "source": [
    "from car import ElectricCar\n",
    "\n",
    "my_tesla = ElectricCar('tesla', 'model 3', 2018)\n",
    "print(my_tesla.get_descriptive_name())\n",
    "my_tesla.battery.describle_battery()\n",
    "my_tesla.battery.get_range()"
   ]
  },
  {
   "cell_type": "markdown",
   "metadata": {},
   "source": [
    "### Importing Multiple Classes from a Module"
   ]
  },
  {
   "cell_type": "code",
   "execution_count": null,
   "metadata": {},
   "outputs": [],
   "source": [
    "from car import Car, ElectricCar as EC\n",
    "\n",
    "my_lincoln = Car('lincoln', 'mkz', 2019)\n",
    "print(my_lincoln.get_descriptive_name())\n",
    "\n",
    "my_toyota = EC('toyota', 'rav4', 2020)\n",
    "print(my_toyota.get_descriptive_name())"
   ]
  },
  {
   "cell_type": "markdown",
   "metadata": {},
   "source": [
    "### Importing an Entire Module\n",
    "\n",
    "If you need to import many classes from a module, you’re better off importing the entire module and using the `module_name.ClassName syntax`."
   ]
  },
  {
   "cell_type": "code",
   "execution_count": null,
   "metadata": {},
   "outputs": [],
   "source": [
    "import car\n",
    "\n",
    "my_lincoln = car.Car('lincoln', 'mkz', 2019)\n",
    "print(my_lincoln.get_descriptive_name())\n",
    "\n",
    "my_toyota = car.ElectricCar('toyota', 'rav4', 2020)\n",
    "print(my_toyota.get_descriptive_name())"
   ]
  },
  {
   "cell_type": "markdown",
   "metadata": {},
   "source": [
    "### Importing All Classes from a Module\n",
    "\n",
    "This method is not recommended for two reasons."
   ]
  },
  {
   "cell_type": "code",
   "execution_count": null,
   "metadata": {},
   "outputs": [],
   "source": [
    "from car import *\n",
    "\n",
    "my_lincoln = Car('lincoln', 'mkz', 2019)\n",
    "print(my_lincoln.get_descriptive_name())\n",
    "\n",
    "my_toyota = ElectricCar('toyota', 'rav4', 2020)\n",
    "print(my_toyota.get_descriptive_name())"
   ]
  },
  {
   "cell_type": "markdown",
   "metadata": {},
   "source": [
    "### Importing a Module into a Module"
   ]
  },
  {
   "cell_type": "markdown",
   "metadata": {},
   "source": [
    "## The Python Standard Library\n",
    "\n",
    "The Python standard library is a set of modules included with every Python installation."
   ]
  },
  {
   "cell_type": "code",
   "execution_count": null,
   "metadata": {},
   "outputs": [],
   "source": [
    "# Generate a random number between 1 and 6\n",
    "from random import randint\n",
    "randint(1, 6)"
   ]
  },
  {
   "cell_type": "code",
   "execution_count": null,
   "metadata": {},
   "outputs": [],
   "source": [
    "# Take in a list or tuple and returns a randomly chosen element:\n",
    "from random import choice\n",
    "players = ['charles', 'martina', 'michael', 'florence', 'eli']\n",
    "first_up = choice(players)\n",
    "print(first_up)"
   ]
  },
  {
   "cell_type": "markdown",
   "metadata": {},
   "source": [
    "### Exercise"
   ]
  },
  {
   "cell_type": "code",
   "execution_count": null,
   "metadata": {
    "scrolled": false
   },
   "outputs": [],
   "source": [
    "# Dice\n",
    "from random import randint\n",
    "\n",
    "class Die():\n",
    "    \"\"\"Represent a dice\"\"\"\n",
    "    \n",
    "    def __init__(self, roll_times, sides=6):\n",
    "        \"\"\"Make a die with default 6 sides\"\"\"\n",
    "        self.sides = sides\n",
    "        self.roll_times = roll_times\n",
    "    \n",
    "    def roll_die(self):\n",
    "        \"\"\"\n",
    "        Roll the dice to show a random number \n",
    "        between 1 and the number of sides the die has.\n",
    "        \"\"\"\n",
    "        max_num = self.sides\n",
    "        for roll_time in range(self.roll_times):\n",
    "            current_num = randint(1, max_num)\n",
    "            print(f\"{roll_time} - {current_num}\")\n",
    "\n",
    "print(\"\\nMake a 6-sided die and roll it 10 times:\")\n",
    "sixSides_tenRoll = Die(10)\n",
    "sixSides_tenRoll.roll_die()\n",
    "\n",
    "print(\"\\nMake a 10-sided die and roll it 10 times:\")\n",
    "tenSides_tenRoll = Die(10, 10)\n",
    "tenSides_tenRoll.roll_die()\n",
    "\n",
    "print(\"\\nMake a 20-sided die and roll it 10 times:\")\n",
    "twentySides_tenRoll = Die(10, 20)\n",
    "twentySides_tenRoll.roll_die()"
   ]
  },
  {
   "cell_type": "code",
   "execution_count": null,
   "metadata": {},
   "outputs": [],
   "source": [
    "# Lottery\n",
    "from random import choice, sample\n",
    "\n",
    "class Lottery():\n",
    "    \"\"\"Represent a lottery\"\"\"\n",
    "    \n",
    "    def __init__(self, lottery_nums, digits=4):\n",
    "        \"\"\"Initialize the lottery's attributes.\"\"\"\n",
    "        self.lottery_nums = lottery_nums\n",
    "        self.digits = digits\n",
    "        self.prize_nums = []\n",
    "    \n",
    "    def get_prize_nums(self):\n",
    "        \"\"\"\n",
    "        Randomly select several numbers between those given ones\n",
    "        \"\"\"\n",
    "        while len(self.prize_nums) < self.digits:\n",
    "            pulled_num = choice(self.lottery_nums)\n",
    "            if pulled_num not in self.prize_nums:\n",
    "                self.prize_nums.append(pulled_num)\n",
    "        \n",
    "    def show_prize_nums(self):\n",
    "        print(\"\\nHere are the prize numbers today:\")\n",
    "        print(self.prize_nums)\n",
    "        \n",
    "    def reset_prize_nums(self):\n",
    "        self.prize_nums = []\n",
    "\n",
    "        \n",
    "matched_ticket = Lottery(list(range(10)) + list('abcde'))\n",
    "matched_ticket.get_prize_nums()\n",
    "matched_ticket.show_prize_nums()\n",
    "\n",
    "print(\"\\nRandomly generate my ticket numbers:\")\n",
    "my_ticket = sample(range(10), matched_ticket.digits)\n",
    "print(my_ticket)\n",
    "\n",
    "if my_ticket == matched_ticket.prize_nums:\n",
    "    print(\"\\nYou win the prize. Congrats!\")\n",
    "else:\n",
    "    print(\"\\nYour ticket doesn't match the result. Try again!\")"
   ]
  },
  {
   "cell_type": "code",
   "execution_count": null,
   "metadata": {},
   "outputs": [],
   "source": [
    "\"\"\"\n",
    "Compare the palyed ticket with winning ticket.\n",
    "Carculate the times before perfectly matched.\n",
    "\"\"\"\n",
    "match_times = 0\n",
    "won = False\n",
    "\n",
    "while not won:\n",
    "    # Initialize the winning ticket or regenerate it if not matched\n",
    "    matched_ticket.reset_prize_nums()\n",
    "    matched_ticket.get_prize_nums()\n",
    "\n",
    "    # Analysis the match result\n",
    "    overall_match = []\n",
    "    for index, value in enumerate(my_ticket):\n",
    "        individual_match = (matched_ticket.prize_nums[index] == value)\n",
    "        overall_match.append(individual_match)\n",
    "\n",
    "    if sum(overall_match) == matched_ticket.digits:\n",
    "        won = True\n",
    "    else:\n",
    "        match_times += 1\n",
    "\n",
    "print(f\"It took {match_times} tries to win.\")"
   ]
  },
  {
   "cell_type": "markdown",
   "metadata": {},
   "source": [
    "## Styling Classes\n",
    "\n",
    "- Class names should be written in *CamelCase*. To do this, capitalize the first letter of each word in the name, and don’t use underscores. Instance and module names should be written in lowercase with underscores between words.\n",
    "\n",
    "- Every class should have a docstring immediately following the class definition. The docstring should be a brief description of what the class does. Each module should also have a docstring describing what the classes in a module can be used for.\n",
    "\n",
    "- Within a class you can use one blank line between methods, and within a module you can use two blank lines to separate classes.\n",
    "\n",
    "- If you need to import a module from the standard library and a module that you wrote, place the import statement for the standard library module first. Then add a blank line and the import statement for the module you wrote."
   ]
  },
  {
   "cell_type": "markdown",
   "metadata": {},
   "source": [
    "# CH10 - Files and Exceptions\n",
    "\n",
    "## Reading from a File"
   ]
  },
  {
   "cell_type": "code",
   "execution_count": null,
   "metadata": {},
   "outputs": [],
   "source": [
    "# Reading an Entire File\n",
    "\n",
    "with open('resources\\pi_digit.txt') as file_object:\n",
    "    contents = file_object.read()\n",
    "print(contents)\n",
    "print(\"--- bottom ---\")"
   ]
  },
  {
   "cell_type": "code",
   "execution_count": null,
   "metadata": {},
   "outputs": [],
   "source": [
    "\"\"\"\n",
    "Recall the Python’s rstrip() method removes, or strips, any whitespace\n",
    "characters from the right side of a string.\n",
    "\"\"\"\n",
    "print(contents.rstrip())\n",
    "print(\"--- bottom ---\")"
   ]
  },
  {
   "cell_type": "markdown",
   "metadata": {},
   "source": [
    "### File Paths\n",
    "\n",
    "- Windows systems use a backslash (`\\`) instead of a forward slash (`/`)  when displaying file paths, but you can still use forward slashes in your code.\n",
    "\n",
    "- If you try to use backslashes in a file path, you’ll get an error because the backslash is used to escape characters in strings. For example, in the path `\"C:\\path\\to\\file.txt\"`, the sequence `\\t` is interpreted as a tab. If you need to use backslashes, you can escape each one in the path, like this: `\"C:\\\\path\\\\to\\\\file.txt\"`."
   ]
  },
  {
   "cell_type": "code",
   "execution_count": null,
   "metadata": {},
   "outputs": [],
   "source": [
    "file_path = 'C:\\path\\to\\file.txt'\n",
    "with open(file_path) as f:\n",
    "    print(f.read().rstrip())"
   ]
  },
  {
   "cell_type": "markdown",
   "metadata": {},
   "source": [
    "### Reading Line by Line\n",
    "\n",
    "These blank lines appear because an invisible newline character is at the end of each line in the text file. The `print` function adds its own newline each time we call it, so we end up with two newline characters at the end of each line: one from the file and one from `print()`."
   ]
  },
  {
   "cell_type": "code",
   "execution_count": null,
   "metadata": {},
   "outputs": [],
   "source": [
    "file_path = 'resources/pi_digit.txt'\n",
    "\n",
    "with open(file_path) as f:\n",
    "    for line in f:\n",
    "        print(line)\n",
    "\n",
    "print(\"--- bottom ---\")"
   ]
  },
  {
   "cell_type": "code",
   "execution_count": null,
   "metadata": {
    "scrolled": true
   },
   "outputs": [],
   "source": [
    "# Using rstrip() on each line in the print() call \n",
    "# eliminates these extra blank lines:\n",
    "with open(file_path) as f:\n",
    "    for line in f:\n",
    "        print(line.rstrip())\n",
    "\n",
    "print(\"--- bottom ---\")"
   ]
  },
  {
   "cell_type": "markdown",
   "metadata": {},
   "source": [
    "### Making a List of Lines from a File"
   ]
  },
  {
   "cell_type": "code",
   "execution_count": null,
   "metadata": {},
   "outputs": [],
   "source": [
    "\"\"\"\n",
    "When you use with, the file object returned by open() is only available inside\n",
    "the with block that contains it. If you want to retain access to a file’s contents\n",
    "outside the with block, you can store the file’s lines in a list inside the\n",
    "block and then work with that list.\n",
    "The readlines() method takes each line from the file and stores it in a list.\n",
    "\"\"\"\n",
    "with open(file_path) as f:\n",
    "    lines = f.readlines()\n",
    "        \n",
    "for line in lines:\n",
    "    print(line.rstrip())\n",
    "    \n",
    "print(\"--- bottom ---\")"
   ]
  },
  {
   "cell_type": "markdown",
   "metadata": {},
   "source": [
    "### Working with a File’s Contents\n",
    "\n",
    "When Python reads from a text file, it interprets all text in the file as a string."
   ]
  },
  {
   "cell_type": "code",
   "execution_count": null,
   "metadata": {},
   "outputs": [],
   "source": [
    "with open(file_path) as f:\n",
    "    lines = f.readlines()\n",
    "    \n",
    "pi_string = ''\n",
    "for line in lines:\n",
    "    pi_string += line.rstrip()\n",
    "    \n",
    "print(pi_string)\n",
    "print(len(pi_string))"
   ]
  },
  {
   "cell_type": "code",
   "execution_count": null,
   "metadata": {},
   "outputs": [],
   "source": [
    "with open(file_path) as f:\n",
    "    lines = f.readlines()\n",
    "    \n",
    "pi_string = ''\n",
    "for line in lines:\n",
    "    pi_string += line.strip()\n",
    "    \n",
    "print(pi_string)\n",
    "print(len(pi_string))"
   ]
  },
  {
   "cell_type": "markdown",
   "metadata": {},
   "source": [
    "### Large Files: One Million Digits"
   ]
  },
  {
   "cell_type": "code",
   "execution_count": null,
   "metadata": {},
   "outputs": [],
   "source": [
    "file_path = 'resources/pi_million_digits.txt'\n",
    "\n",
    "with open(file_path) as f:\n",
    "    lines = f.readlines()\n",
    "    \n",
    "pi_string = ''\n",
    "for line in lines:\n",
    "    pi_string += line.strip()\n",
    "\n",
    "# Print just the first 50 decimal places\n",
    "print(pi_string[:50])\n",
    "print(len(pi_string))"
   ]
  },
  {
   "cell_type": "code",
   "execution_count": null,
   "metadata": {},
   "outputs": [],
   "source": [
    "# Is Your Birthday Contained in Pi?\n",
    "birthday = input(\"Enter your birthday, in the form mmddyy: \")\n",
    "\n",
    "if birthday in pi_string:\n",
    "    print(\"Your birthday appears in the first million digits of pi!\")\n",
    "else:\n",
    "    print(\"Your birthday does not appear in the first million digits of pi.\")"
   ]
  },
  {
   "cell_type": "markdown",
   "metadata": {},
   "source": [
    "### Writing (Multiple Lines) to a Empty File\n",
    "\n",
    "- The open() function automatically creates the file you’re writing to if it doesn’t already exist. However, be careful opening a file in write mode ('w') because if the file does exist, Python will erase the contents of the file before returning the file object.\n",
    "\n",
    "- You can open a file in read mode ('r'), write mode ('w'), append mode ('a'), or a mode that allows you to read and write to the file ('r+'). If you omit the mode argument, Python opens the file in read-only mode by default."
   ]
  },
  {
   "cell_type": "code",
   "execution_count": null,
   "metadata": {},
   "outputs": [],
   "source": [
    "filename = 'resources/programming.txt'\n",
    "\n",
    "with open(filename, 'w') as f:\n",
    "    f.write(\"I love programming.\\n\")\n",
    "    f.write(\"I love creating something new.\\n\")"
   ]
  },
  {
   "cell_type": "code",
   "execution_count": null,
   "metadata": {},
   "outputs": [],
   "source": [
    "with open(filename) as f:\n",
    "    print(f.read())"
   ]
  },
  {
   "cell_type": "markdown",
   "metadata": {},
   "source": [
    "### Appending to a File"
   ]
  },
  {
   "cell_type": "code",
   "execution_count": null,
   "metadata": {},
   "outputs": [],
   "source": [
    "filename = 'resources/programming.txt'\n",
    "\n",
    "with open(filename, 'a') as f:\n",
    "    f.write(\"I also love finding meaning in large datasets.\\n\")\n",
    "    f.write(\"I love creating apps that can run in a browser.\\n\")"
   ]
  },
  {
   "cell_type": "code",
   "execution_count": null,
   "metadata": {
    "scrolled": true
   },
   "outputs": [],
   "source": [
    "with open(filename) as f:\n",
    "    print(f.read())"
   ]
  },
  {
   "cell_type": "markdown",
   "metadata": {},
   "source": [
    "### Exercise"
   ]
  },
  {
   "cell_type": "code",
   "execution_count": null,
   "metadata": {},
   "outputs": [],
   "source": [
    "# Guest\n",
    "filename = 'resources/guest.txt'\n",
    "\n",
    "with open(filename, 'w') as f:\n",
    "    guest_name = input(\"Enter your name: \")\n",
    "    f.write(guest_name.title())"
   ]
  },
  {
   "cell_type": "code",
   "execution_count": null,
   "metadata": {
    "scrolled": true
   },
   "outputs": [],
   "source": [
    "with open(filename) as f:\n",
    "    print(f.read())"
   ]
  },
  {
   "cell_type": "code",
   "execution_count": null,
   "metadata": {
    "scrolled": true
   },
   "outputs": [],
   "source": [
    "# Guest book\n",
    "filename = 'resources/guest book.txt'\n",
    "\n",
    "with open(filename, 'w') as f:\n",
    "    print(\"You can enter 'q' at any time to quit.\")\n",
    "    while True:\n",
    "        guest_name = input(\"\\nEnter your name: \")\n",
    "        if guest_name == 'q':\n",
    "            break\n",
    "        else:\n",
    "            guest_name = guest_name.title()\n",
    "            print(f\"Welcome, {guest_name}!\")\n",
    "            reason = input(\"Why do you like programming? \")\n",
    "            f.write(f\"{guest_name}: {reason}\\n\")"
   ]
  },
  {
   "cell_type": "code",
   "execution_count": null,
   "metadata": {
    "scrolled": true
   },
   "outputs": [],
   "source": [
    "with open(filename) as f:\n",
    "    print(f.read())"
   ]
  },
  {
   "cell_type": "markdown",
   "metadata": {
    "collapsed": true
   },
   "source": [
    "## Exceptions\n",
    "\n",
    "### Handling the ZeroDivisionError Exception"
   ]
  },
  {
   "cell_type": "code",
   "execution_count": null,
   "metadata": {},
   "outputs": [],
   "source": [
    "print(5/0)"
   ]
  },
  {
   "cell_type": "code",
   "execution_count": null,
   "metadata": {},
   "outputs": [],
   "source": [
    "# Using try-except Blocks\n",
    "\n",
    "try:\n",
    "    print(5/0)\n",
    "except ZeroDivisionError:\n",
    "    print(\"You can't divide by zero!\")"
   ]
  },
  {
   "cell_type": "code",
   "execution_count": null,
   "metadata": {},
   "outputs": [],
   "source": [
    "# Using Exceptions to Prevent Crashes\n",
    "\n",
    "print(\"Give me two numbers, and I'll divid them.\")\n",
    "print(\"Ener 'q' to quit.\")\n",
    "\n",
    "while True:\n",
    "    first_num = input(\"\\nFirst number: \")\n",
    "    if first_num == 'q':\n",
    "        break\n",
    "    second_num = input(\"Second number: \")\n",
    "    if second_num == 'q':\n",
    "        break\n",
    "    \n",
    "    try:\n",
    "        answer = int(first_num) / int(second_num)\n",
    "    except ZeroDivisionError:\n",
    "        print(\"You can't divide by zero!\")\n",
    "    \"\"\"\n",
    "    Any code that depends on the try\n",
    "    block executing successfully goes in the else block:\n",
    "    \"\"\"\n",
    "    else:\n",
    "        print(round(answer, 2))"
   ]
  },
  {
   "cell_type": "markdown",
   "metadata": {
    "collapsed": true
   },
   "source": [
    "### Handling the FileNotFoundError Exception"
   ]
  },
  {
   "cell_type": "code",
   "execution_count": null,
   "metadata": {},
   "outputs": [],
   "source": [
    "filename = 'alice.txt'\n",
    "\n",
    "with open(filename, encoding='utf-8') as f:\n",
    "    contents = f.read()"
   ]
  },
  {
   "cell_type": "code",
   "execution_count": null,
   "metadata": {},
   "outputs": [],
   "source": [
    "filename = 'resources/alice.txt'\n",
    "\n",
    "try:\n",
    "    with open(filename, encoding='utf-8') as f:\n",
    "        contents = f.read()\n",
    "except FileNotFoundError:\n",
    "    print(f\"Sorry, the file {filename} does not exist.\")"
   ]
  },
  {
   "cell_type": "markdown",
   "metadata": {},
   "source": [
    "### Analyzing Text"
   ]
  },
  {
   "cell_type": "code",
   "execution_count": null,
   "metadata": {},
   "outputs": [],
   "source": [
    "title = \"Alice in Wonderland\"\n",
    "title.split()"
   ]
  },
  {
   "cell_type": "code",
   "execution_count": null,
   "metadata": {},
   "outputs": [],
   "source": [
    "filename = 'resources/alice.txt'\n",
    "\n",
    "try:\n",
    "    with open(filename, encoding='utf-8') as f:\n",
    "        contents = f.read()\n",
    "except FileNotFoundError:\n",
    "    print(f\"Sorry, the file {filename} does not exist.\")\n",
    "else:\n",
    "    # Count the approximate number of words in the file.\n",
    "    words = contents.split()\n",
    "    num_words = len(words)\n",
    "    print(f\"The file {filename} has about {num_words} words.\")"
   ]
  },
  {
   "cell_type": "markdown",
   "metadata": {},
   "source": [
    "### Working with Multiple Files"
   ]
  },
  {
   "cell_type": "code",
   "execution_count": null,
   "metadata": {},
   "outputs": [],
   "source": [
    "def count_words(filename):\n",
    "    \"\"\"Count the approximate number of words in the file.\"\"\"\n",
    "    try:\n",
    "        with open(filename, encoding='utf-8') as f:\n",
    "            contents = f.read()\n",
    "    except FileNotFoundError:\n",
    "        print(f\"Sorry, the file {filename} does not exist.\")\n",
    "    else:\n",
    "        words = contents.split()\n",
    "        num_words = len(words)\n",
    "        print(f\"The file {filename} has about {num_words} words.\")\n",
    "\n",
    "filepath = 'resources/'\n",
    "filenames = ['alice.txt', 'programming.txt', 'missing_file.txt']\n",
    "\n",
    "for filename in filenames:\n",
    "    full_path = filepath + filename\n",
    "    count_words(full_path)"
   ]
  },
  {
   "cell_type": "markdown",
   "metadata": {},
   "source": [
    "### Failing Silently\n",
    "\n",
    "To make a program fail silently, you write a try block as usual, but you use `pass` to explicitly tell Python to do nothing in the except block."
   ]
  },
  {
   "cell_type": "code",
   "execution_count": null,
   "metadata": {},
   "outputs": [],
   "source": [
    "def count_words(filename):\n",
    "    \"\"\"Count the approximate number of words in the file.\"\"\"\n",
    "    try:\n",
    "        with open(filename, encoding='utf-8') as f:\n",
    "            contents = f.read()\n",
    "    except FileNotFoundError:\n",
    "        pass\n",
    "    else:\n",
    "        words = contents.split()\n",
    "        num_words = len(words)\n",
    "        print(f\"The file {filename} has about {num_words} words.\")\n",
    "\n",
    "filepath = 'resources/'\n",
    "filenames = ['alice.txt', 'programming.txt', 'missing_file.txt']\n",
    "\n",
    "for filename in filenames:\n",
    "    full_path = filepath + filename\n",
    "    count_words(full_path)"
   ]
  },
  {
   "cell_type": "markdown",
   "metadata": {
    "collapsed": true
   },
   "source": [
    "### Exercise: Addition"
   ]
  },
  {
   "cell_type": "code",
   "execution_count": null,
   "metadata": {},
   "outputs": [],
   "source": [
    "# Addition\n",
    "\n",
    "try:\n",
    "    x = input('Give me a number: ')\n",
    "    x = int(x)\n",
    "    \n",
    "    y = input('Give me another number: ')\n",
    "    y = int(y)\n",
    "except ValueError:\n",
    "    print(\"Sorry, I really needed a number.\")\n",
    "else:\n",
    "    sum = x + y\n",
    "    print(f\"The sum of {x} and {y} is {sum}.\")"
   ]
  },
  {
   "cell_type": "code",
   "execution_count": null,
   "metadata": {},
   "outputs": [],
   "source": [
    "# Addition calculator\n",
    "\n",
    "print(\"Enter 'q' at any time to quit.\")\n",
    "while True:\n",
    "    try:\n",
    "        x = input('\\nGive me a number: ')\n",
    "        if x == 'q':\n",
    "            break\n",
    "        x = int(x)\n",
    "\n",
    "        y = input('Give me another number: ')\n",
    "        if y == 'q':\n",
    "            break\n",
    "        y = int(y)\n",
    "        \n",
    "    except ValueError:\n",
    "        print(\"Sorry, I really needed a number.\")\n",
    "        \n",
    "    else:\n",
    "        sum = x + y\n",
    "        print(f\"The sum of {x} and {y} is {sum}.\")"
   ]
  },
  {
   "cell_type": "markdown",
   "metadata": {},
   "source": [
    "## Storing Data\n",
    "\n",
    "A simple way to do this involves storing your data using the `json` module.\n",
    "\n",
    "### Using `json.dump()` and `json.load()`"
   ]
  },
  {
   "cell_type": "code",
   "execution_count": null,
   "metadata": {},
   "outputs": [],
   "source": [
    "# use json.dump() to store a list of numbers:\n",
    "\n",
    "import json\n",
    "\n",
    "numbers = list(range(1, 10))\n",
    "print(numbers)\n",
    "\n",
    "filename = 'data/numbers.json'\n",
    "with open(filename, 'w') as f:\n",
    "    json.dump(numbers, f)"
   ]
  },
  {
   "cell_type": "code",
   "execution_count": null,
   "metadata": {},
   "outputs": [],
   "source": [
    "# read the list back into memory\n",
    "\n",
    "import json\n",
    "\n",
    "filename = 'data/numbers.json'\n",
    "with open(filename) as f:\n",
    "    nums = json.load(f)\n",
    "\n",
    "print(nums)"
   ]
  },
  {
   "cell_type": "markdown",
   "metadata": {},
   "source": [
    "### Saving and Reading User-Generated Data"
   ]
  },
  {
   "cell_type": "code",
   "execution_count": null,
   "metadata": {},
   "outputs": [],
   "source": [
    "# Store the user's name\n",
    "\n",
    "import json\n",
    "\n",
    "username = input(\"What's your name? \").title()\n",
    "\n",
    "filename = 'data/username.json'\n",
    "with open(filename, 'w') as f:\n",
    "    json.dump(username, f)\n",
    "    \n",
    "print(f\"We'll remember you when you come back, {username}!\")"
   ]
  },
  {
   "cell_type": "code",
   "execution_count": null,
   "metadata": {},
   "outputs": [],
   "source": [
    "# Greet a user whose name has been stored\n",
    "\n",
    "import json\n",
    "\n",
    "filename = 'data/username.json'\n",
    "with open(filename) as f:\n",
    "    username = json.load(f)\n",
    "    \n",
    "print(f\"Welcome back, {username}!\")"
   ]
  },
  {
   "cell_type": "code",
   "execution_count": null,
   "metadata": {},
   "outputs": [],
   "source": [
    "# Load the username, if it has been stored previously.\n",
    "# Otherwise, prompt for the username and store it.\n",
    "\n",
    "import json\n",
    "\n",
    "filename = 'data/username.json'\n",
    "try:\n",
    "    with open(filename) as f:\n",
    "        username = json.load(f)\n",
    "except FileNotFoundError:\n",
    "    username = input(\"What's your name? \").title()\n",
    "    with open(filename, 'w') as f:\n",
    "        json.dump(username, f)\n",
    "    print(f\"We'll remember you when you come back, {username}!\")\n",
    "else:   \n",
    "    print(f\"Welcome back, {username}!\")"
   ]
  },
  {
   "cell_type": "markdown",
   "metadata": {},
   "source": [
    "## Refactoring\n",
    "\n",
    "you could improve the code by breaking it up into a series of functions that have specific jobs. This process is called refactoring. Refactoring makes your code cleaner, easier to understand, and easier to extend."
   ]
  },
  {
   "cell_type": "code",
   "execution_count": null,
   "metadata": {},
   "outputs": [],
   "source": [
    "import json\n",
    "\n",
    "def get_stored_user():\n",
    "    \"\"\"Get stored username if avialable\"\"\"\n",
    "    \n",
    "    filename = 'data/username.json'\n",
    "    try:\n",
    "        with open(filename) as f:\n",
    "            username = json.load(f)\n",
    "    except FileNotFoundError:\n",
    "        return None\n",
    "    else:\n",
    "        return username\n",
    "\n",
    "def greet_user():\n",
    "    \"\"\"Greet the user by name\"\"\"\n",
    "    \n",
    "    filename = 'data/username.json'\n",
    "    username = get_stored_user()\n",
    "    if username:\n",
    "        print(f\"Welcome back, {username}!\")\n",
    "    else:\n",
    "        username = input(\"What's your name? \").title()\n",
    "        with open(filename, 'w') as f:\n",
    "            json.dump(username, f)\n",
    "        print(f\"We'll remember you when you come back, {username}!\")\n",
    "        \n",
    "greet_user()"
   ]
  },
  {
   "cell_type": "code",
   "execution_count": null,
   "metadata": {},
   "outputs": [],
   "source": [
    "import json\n",
    "\n",
    "def get_stored_user():\n",
    "    \"\"\"Get stored username if avialable\"\"\"\n",
    "    \n",
    "    filename = 'data/username.json'\n",
    "    try:\n",
    "        with open(filename) as f:\n",
    "            username = json.load(f)\n",
    "    except FileNotFoundError:\n",
    "        return None\n",
    "    else:\n",
    "        return username\n",
    "    \n",
    "def get_new_user():\n",
    "    \"\"\"Prompt for a new user\"\"\"\n",
    "    \n",
    "    username = input(\"What's your name? \").title()\n",
    "    filename = 'data/username.json'\n",
    "    with open(filename, 'w') as f:\n",
    "        json.dump(username, f)\n",
    "    return username\n",
    "\n",
    "def greet_user():\n",
    "    \"\"\"Greet the user by name\"\"\"\n",
    "    \n",
    "    username = get_stored_user()\n",
    "    if username:\n",
    "        print(f\"Welcome back, {username}!\")\n",
    "    else:\n",
    "        username = get_new_user()\n",
    "        print(f\"We'll remember you when you come back, {username}!\")"
   ]
  },
  {
   "cell_type": "code",
   "execution_count": null,
   "metadata": {},
   "outputs": [],
   "source": [
    "greet_user()"
   ]
  },
  {
   "cell_type": "markdown",
   "metadata": {},
   "source": [
    "### Exercise"
   ]
  },
  {
   "cell_type": "code",
   "execution_count": null,
   "metadata": {},
   "outputs": [],
   "source": [
    "# Favorite Number:\n",
    "\n",
    "import json\n",
    "\n",
    "def prompt_for_fav_num():\n",
    "    \"\"\"Prompt for the user's favourite number and store it in a json file\"\"\"\n",
    "    \n",
    "    fav_num = input(\"Give me your favourite number: \")\n",
    "    fav_num = int(fav_num)\n",
    "    filename = 'data/favourite number.json'\n",
    "    with open(filename, 'w') as f:\n",
    "        json.dump(fav_num, f)\n",
    "    return fav_num\n",
    "\n",
    "def read_fav_num():\n",
    "    \"\"\"Read the favourite number if stored\"\"\"\n",
    "    \n",
    "    filename = 'data/favourite number.json'\n",
    "    try:\n",
    "        with open(filename) as f:\n",
    "            fav_num = json.load(f)\n",
    "    except FileNotFoundError:\n",
    "        return None\n",
    "    else:\n",
    "        return fav_num\n",
    "\n",
    "def report_fav_num():\n",
    "    \"\"\"\n",
    "    If the number is already stored, report the favorite number to the user. \n",
    "    If not, prompt for the user’s favorite number and store it in a file.\n",
    "    \"\"\"\n",
    "    \n",
    "    fav_num = read_fav_num()\n",
    "    if fav_num:\n",
    "        print(f\"I know your favourite number! It's {fav_num}.\")\n",
    "    else:\n",
    "        fav_num = prompt_for_fav_num()\n",
    "        print(f\"We'll remember your favourite \\\"{fav_num}\\\" when you come back!\")"
   ]
  },
  {
   "cell_type": "code",
   "execution_count": null,
   "metadata": {},
   "outputs": [],
   "source": [
    "report_fav_num()"
   ]
  },
  {
   "cell_type": "code",
   "execution_count": null,
   "metadata": {},
   "outputs": [],
   "source": [
    "# Verify User:\n",
    "\n",
    "import json\n",
    "\n",
    "def get_stored_user():\n",
    "    \"\"\"Get stored username if avialable\"\"\"\n",
    "    \n",
    "    filename = 'data/username.json'\n",
    "    try:\n",
    "        with open(filename) as f:\n",
    "            username = json.load(f)\n",
    "    except FileNotFoundError:\n",
    "        return None\n",
    "    else:\n",
    "        return username\n",
    "    \n",
    "def get_new_user():\n",
    "    \"\"\"Prompt for a new user\"\"\"\n",
    "    \n",
    "    username = input(\"What's your name? \").title()\n",
    "    filename = 'data/username.json'\n",
    "    with open(filename, 'w') as f:\n",
    "        json.dump(username, f)\n",
    "    return username\n",
    "\n",
    "def greet_user():\n",
    "    \"\"\"Greet the user by name\"\"\"\n",
    "    \n",
    "    # Check if there is stored username\n",
    "    username = get_stored_user()\n",
    "    if username:\n",
    "        # Ask the user if the stored name is his/hers\n",
    "        is_crt_username = input(f\"Is that you, {username}? (y/n) \")\n",
    "        if is_crt_username == 'y':\n",
    "            print(f\"Welcome back, {username}!\")\n",
    "        else:\n",
    "            username = get_new_user()\n",
    "            print(f\"We'll remember you when you come back, {username}!\")\n",
    "    else:\n",
    "        username = get_new_user()\n",
    "        print(f\"We'll remember you when you come back, {username}!\")"
   ]
  },
  {
   "cell_type": "code",
   "execution_count": null,
   "metadata": {},
   "outputs": [],
   "source": [
    "greet_user()"
   ]
  },
  {
   "cell_type": "markdown",
   "metadata": {},
   "source": [
    "# CH11 - Testing Your Code\n",
    "\n",
    "A `unit test` verifies that one specific aspect of a function’s behavior is correct. A `test case` is a collection of unit tests that together prove that a function behaves as it’s supposed to, within the full range of situations you expect it to handle.\n",
    "\n",
    "![Assert Methods Available from the unittest Module](https://miro.medium.com/max/614/1*3kLfkzu6k2bjftuY_2LFsg.png)"
   ]
  },
  {
   "cell_type": "code",
   "execution_count": null,
   "metadata": {},
   "outputs": [],
   "source": [
    "def get_formatted_name(first, last, middle=''):\n",
    "    \"\"\"Generate a neatly formatted full name.\"\"\"\n",
    "    if middle:\n",
    "        full_name = f\"{first} {middle} {last}\"\n",
    "    else:\n",
    "        full_name = f\"{first} {last}\"\n",
    "    return full_name.title()"
   ]
  },
  {
   "cell_type": "code",
   "execution_count": 9,
   "metadata": {
    "scrolled": false
   },
   "outputs": [
    {
     "name": "stdout",
     "output_type": "stream",
     "text": [
      "Enter 'q' at any time to quit.\n",
      "\n",
      "Please give me a first name: grit\n",
      "Give me a last name: tang\n",
      "Give me a middle name if needed: d\n",
      "\tNeatly formmated name: Grit D Tang.\n",
      "\n",
      "Please give me a first name: q\n"
     ]
    }
   ],
   "source": [
    "from name_functions import get_formatted_name\n",
    "\n",
    "print(\"Enter 'q' at any time to quit.\")\n",
    "\n",
    "while True:\n",
    "    first = input(f\"\\nPlease give me a first name: \")\n",
    "    if first == 'q':\n",
    "        break\n",
    "        \n",
    "    last = input(f\"Give me a last name: \")\n",
    "    if last == 'q':\n",
    "        break\n",
    "    \n",
    "    middle = input(f\"Give me a middle name if needed: \")\n",
    "    if middle == 'q':\n",
    "        break\n",
    "    \n",
    "    full_name = get_formatted_name(first, last, middle)\n",
    "    print(f\"\\tNeatly formmated name: {full_name}.\")"
   ]
  },
  {
   "cell_type": "code",
   "execution_count": 10,
   "metadata": {},
   "outputs": [
    {
     "name": "stderr",
     "output_type": "stream",
     "text": [
      "E\n",
      "======================================================================\n",
      "ERROR: C:\\Users\\Administrator\\AppData\\Roaming\\jupyter\\runtime\\kernel-3d8d08fd-5d5d-4b3c-bc8f-f2ea0e9b28ab (unittest.loader._FailedTest)\n",
      "----------------------------------------------------------------------\n",
      "AttributeError: module '__main__' has no attribute 'C:\\Users\\Administrator\\AppData\\Roaming\\jupyter\\runtime\\kernel-3d8d08fd-5d5d-4b3c-bc8f-f2ea0e9b28ab'\n",
      "\n",
      "----------------------------------------------------------------------\n",
      "Ran 1 test in 0.001s\n",
      "\n",
      "FAILED (errors=1)\n"
     ]
    },
    {
     "ename": "SystemExit",
     "evalue": "True",
     "output_type": "error",
     "traceback": [
      "An exception has occurred, use %tb to see the full traceback.\n",
      "\u001b[1;31mSystemExit\u001b[0m\u001b[1;31m:\u001b[0m True\n"
     ]
    },
    {
     "name": "stderr",
     "output_type": "stream",
     "text": [
      "D:\\ProgramData\\Anaconda3\\lib\\site-packages\\IPython\\core\\interactiveshell.py:3339: UserWarning: To exit: use 'exit', 'quit', or Ctrl-D.\n",
      "  warn(\"To exit: use 'exit', 'quit', or Ctrl-D.\", stacklevel=1)\n"
     ]
    }
   ],
   "source": [
    "import unittest\n",
    "\n",
    "from name_functions import get_formatted_name\n",
    "\n",
    "class NamesTestCase(unittest.TestCase):\n",
    "    \"\"\"Tests for 'name_function.py'.\"\"\"\n",
    "    \n",
    "    def test_first_last_name(self):\n",
    "        \"\"\"Do names like 'Janis Joplin' work?\"\"\"\n",
    "        formatted_name = get_formatted_name('janis', 'joplin')\n",
    "        self.assertEqual(formatted_name, 'Janis Joplin')\n",
    "\n",
    "    def test_first_last_middle_name(self):\n",
    "        \"\"\"Do names like 'Wolfgang Amadeus Mozart' work?\"\"\"\n",
    "        formatted_name = get_formatted_name(\n",
    "            'wolfgang', 'mozart', 'amqadeus')\n",
    "        self.assertEqual(formatted_name, 'Wolfgang Amadeus Mozart')\n",
    "\n",
    "if __name__ == '__main__':\n",
    "    unittest.main()"
   ]
  },
  {
   "cell_type": "markdown",
   "metadata": {},
   "source": [
    "### Exercise"
   ]
  },
  {
   "cell_type": "code",
   "execution_count": 13,
   "metadata": {
    "scrolled": true
   },
   "outputs": [
    {
     "name": "stderr",
     "output_type": "stream",
     "text": [
      "E\n",
      "======================================================================\n",
      "ERROR: C:\\Users\\Administrator\\AppData\\Roaming\\jupyter\\runtime\\kernel-3d8d08fd-5d5d-4b3c-bc8f-f2ea0e9b28ab (unittest.loader._FailedTest)\n",
      "----------------------------------------------------------------------\n",
      "AttributeError: module '__main__' has no attribute 'C:\\Users\\Administrator\\AppData\\Roaming\\jupyter\\runtime\\kernel-3d8d08fd-5d5d-4b3c-bc8f-f2ea0e9b28ab'\n",
      "\n",
      "----------------------------------------------------------------------\n",
      "Ran 1 test in 0.001s\n",
      "\n",
      "FAILED (errors=1)\n"
     ]
    },
    {
     "ename": "SystemExit",
     "evalue": "True",
     "output_type": "error",
     "traceback": [
      "An exception has occurred, use %tb to see the full traceback.\n",
      "\u001b[1;31mSystemExit\u001b[0m\u001b[1;31m:\u001b[0m True\n"
     ]
    },
    {
     "name": "stderr",
     "output_type": "stream",
     "text": [
      "D:\\ProgramData\\Anaconda3\\lib\\site-packages\\IPython\\core\\interactiveshell.py:3339: UserWarning: To exit: use 'exit', 'quit', or Ctrl-D.\n",
      "  warn(\"To exit: use 'exit', 'quit', or Ctrl-D.\", stacklevel=1)\n"
     ]
    }
   ],
   "source": [
    "import unittest\n",
    "from city_functions import get_city_country\n",
    "\n",
    "class CitiesTestCase(unittest.TestCase):\n",
    "    \"\"\"Tests for 'city_functions.py'.\"\"\"\n",
    "\n",
    "    def test_city_country(self):\n",
    "        \"\"\"Does a simple city and country pair work?\"\"\"\n",
    "        santiago_chile = get_city_country('santiago', 'chile')\n",
    "        self.assertEqual(santiago_chile, 'Santiago, Chile')\n",
    "\n",
    "if __name__ == '__main__':\n",
    "    unittest.main()"
   ]
  }
 ],
 "metadata": {
  "kernelspec": {
   "display_name": "Python 3",
   "language": "python",
   "name": "python3"
  },
  "language_info": {
   "codemirror_mode": {
    "name": "ipython",
    "version": 3
   },
   "file_extension": ".py",
   "mimetype": "text/x-python",
   "name": "python",
   "nbconvert_exporter": "python",
   "pygments_lexer": "ipython3",
   "version": "3.7.7"
  },
  "toc": {
   "base_numbering": 1,
   "nav_menu": {},
   "number_sections": true,
   "sideBar": true,
   "skip_h1_title": false,
   "title_cell": "Table of Contents",
   "title_sidebar": "Contents",
   "toc_cell": false,
   "toc_position": {
    "height": "calc(100% - 180px)",
    "left": "10px",
    "top": "150px",
    "width": "457.594px"
   },
   "toc_section_display": true,
   "toc_window_display": true
  }
 },
 "nbformat": 4,
 "nbformat_minor": 2
}
